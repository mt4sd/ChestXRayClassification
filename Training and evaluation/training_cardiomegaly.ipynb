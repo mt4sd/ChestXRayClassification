{
 "cells": [
  {
   "cell_type": "markdown",
   "id": "ee0f7517",
   "metadata": {},
   "source": [
    "# Training Script to classify Chest XRay images into: cardiomegaly/not cardiomegaly"
   ]
  },
  {
   "cell_type": "markdown",
   "id": "260ab076",
   "metadata": {},
   "source": [
    "### Model: \n",
    "Resnet18 pretrained in Imagenet, 3 Channels as inputs, 1 output"
   ]
  },
  {
   "cell_type": "markdown",
   "id": "51b24106",
   "metadata": {},
   "source": [
    "##  Import libraries"
   ]
  },
  {
   "cell_type": "code",
   "execution_count": 1,
   "id": "4dbb23ff",
   "metadata": {},
   "outputs": [
    {
     "name": "stdout",
     "output_type": "stream",
     "text": [
      "Device: cuda\n"
     ]
    }
   ],
   "source": [
    "import pandas as pd\n",
    "from skimage.io import imread\n",
    "from matplotlib import pyplot as plt\n",
    "import time\n",
    "import os\n",
    "import copy\n",
    "import cv2 \n",
    "import numpy as np\n",
    "from PIL import Image\n",
    "\n",
    "# AI framework\n",
    "import torch\n",
    "from torch.utils.data import Dataset, DataLoader\n",
    "from torchvision import models, transforms\n",
    "import torch.nn as nn\n",
    "import torchxrayvision as xrv\n",
    "\n",
    "# Visualize the evolution of the model during training\n",
    "from torch.utils.tensorboard import SummaryWriter\n",
    "writer = SummaryWriter()\n",
    "\n",
    "# Statistical analysis on the test dataset:\n",
    "import sklearn\n",
    "from sklearn import metrics\n",
    "from sklearn.metrics import confusion_matrix\n",
    "import seaborn as sns\n",
    "from sklearn.metrics import roc_auc_score, auc\n",
    "from sklearn.metrics import roc_curve\n",
    "\n",
    "# Device\n",
    "DEVICE = torch.device(\"cuda\" if torch.cuda.is_available() else \"cpu\")\n",
    "print(f'Device: {DEVICE}')"
   ]
  },
  {
   "cell_type": "markdown",
   "id": "17f084b5",
   "metadata": {},
   "source": [
    "## 1. Import data and pre-processing"
   ]
  },
  {
   "cell_type": "markdown",
   "id": "a2e3229e",
   "metadata": {},
   "source": [
    "## 1.1 Create a class to manage the dataset"
   ]
  },
  {
   "cell_type": "code",
   "execution_count": 2,
   "id": "feb68858",
   "metadata": {},
   "outputs": [],
   "source": [
    "# Define a personalized class for the dataset\n",
    "class PadChestDataset(Dataset):\n",
    "    \n",
    "    def __init__(self, img_dir, csv_file, avail_imgID, transform = None):\n",
    "        self.labels = pd.read_csv(csv_file, low_memory = False)\n",
    "        \n",
    "        # Replace missing values in \"Labels\" column with an empty string\n",
    "        self.labels['Labels'].fillna('', inplace = True)\n",
    "        \n",
    "        # Filter by available image files\n",
    "        self.labels = self.labels[self.labels[\"ImageID\"].isin(avail_imgID)]\n",
    "       \n",
    "        # Create a dictionary to create binary labels: \"normal\": 1 and \"others\":0\n",
    "        self.label_dict= {\"not_cardiomegaly\": 0, \"cardiomegaly\": 1}\n",
    "        \n",
    "        # Initializes instance variables img_dir and transform\n",
    "        self.img_dir = img_dir\n",
    "        self.transform = transform\n",
    "        \n",
    "    def normalize(self,image, rangeValues = (0, 1), dtype = np.float32):\n",
    "        \"\"\"\n",
    "        Scales intensity values in the image to be within a specific range.\n",
    "\n",
    "        :param image: input array\n",
    "        :param rangeValue: minimum and maximum values defining the desired output range\n",
    "        :param dtype: type of data for intensity value\n",
    "\n",
    "        :return normalized image\n",
    "        \"\"\"\n",
    "        image = np.array(image)\n",
    "        image_norm = (image - np.min(image))/(np.max(image) - np.min(image)) # scale between zero and one\n",
    "        image_norm = image_norm * (rangeValues[1] - rangeValues[0]) + rangeValues[0]\n",
    "        return image_norm.astype(dtype)\n",
    "\n",
    "\n",
    "    def equalize(self, image):    \n",
    "        clahe = cv2.createCLAHE(clipLimit=40.0, tileGridSize=(8,8))\n",
    "        clahe_img = clahe.apply(image)\n",
    "\n",
    "        kernel = cv2.getStructuringElement(cv2.MORPH_RECT, (15, 15)) # MORPH_ELLIPSE\n",
    "        eq_img = cv2.equalizeHist(image)\n",
    "        tophat = cv2.morphologyEx(eq_img, cv2.MORPH_TOPHAT, kernel)\n",
    "        bothat = cv2.morphologyEx(eq_img, cv2.MORPH_BLACKHAT, kernel)\n",
    "        hat_img = eq_img + tophat - bothat\n",
    "\n",
    "        return np.dstack((image, clahe_img, hat_img))\n",
    "        \n",
    "\n",
    "    def __len__(self):\n",
    "        return len(self.labels)\n",
    "\n",
    "    def __getitem__(self, idx):\n",
    "        \n",
    "        # Get labels: Map the csv labels to binary tags: 0 for normal or 1 for others\n",
    "        csv_labels_name = self.labels['Labels'].iloc[idx]\n",
    "        \n",
    "        if 'cardiomegaly' in csv_labels_name :\n",
    "            labels = self.label_dict[\"cardiomegaly\"]\n",
    "        else:\n",
    "            labels = self.label_dict[\"not_cardiomegaly\"]\n",
    "            \n",
    "        # Get image paths\n",
    "        imgid = self.labels['ImageID'].iloc[idx]\n",
    "        img_path = os.path.join(self.img_dir, imgid)\n",
    "     \n",
    "        # Step 1: Load the image\n",
    "        image_original = cv2.imread(img_path, cv2.IMREAD_UNCHANGED) \n",
    "        image_norm= self.normalize(image = image_original, rangeValues = (0, 255), dtype = np.uint8)\n",
    "\n",
    "        # Step 2: Equalize\n",
    "        image_eq = self.equalize(image_norm)\n",
    "        img_trans = image_eq[...,::-1] # Invert the order of the channels\n",
    "\n",
    "        # Step 3: Resize and transform to tensor   \n",
    "        if self.transform:\n",
    "            img_trans = self.transform(Image.fromarray(img_trans)).to(DEVICE)\n",
    "            \n",
    "        return img_trans, labels"
   ]
  },
  {
   "cell_type": "markdown",
   "id": "0692bd7e",
   "metadata": {},
   "source": [
    "## 1.2 Define the datasets and dataloaders"
   ]
  },
  {
   "cell_type": "markdown",
   "id": "6a685b49",
   "metadata": {},
   "source": [
    "### Paths"
   ]
  },
  {
   "cell_type": "code",
   "execution_count": 3,
   "id": "b71f3950",
   "metadata": {},
   "outputs": [],
   "source": [
    "# Define the paths\n",
    "# Image paths\n",
    "datapath = \"/home/marialuque/datos_maria/Data/PadChest512_PA_Manually_Filtered\"\n",
    "\n",
    "# Labels path\n",
    "csv_file = \"/home/marialuque/datos_maria/Data/PADCHEST_chest_x_ray_images_labels_160K_01.02.19.csv\""
   ]
  },
  {
   "cell_type": "markdown",
   "id": "199d842b",
   "metadata": {},
   "source": [
    "### Filter the images"
   ]
  },
  {
   "cell_type": "code",
   "execution_count": 4,
   "id": "ab31f2a9",
   "metadata": {},
   "outputs": [],
   "source": [
    "# Train available image IDs\n",
    "splitted_imageIDs_txtFiles = \"split_individual_models_dataset/cardiomegaly_IDs\"\n",
    "\n",
    "train_imageIDs_available = os.path.join(splitted_imageIDs_txtFiles, \"train_imageIDs.txt\")\n",
    "with open(train_imageIDs_available, \"r\") as f:\n",
    "    train_avail_imgID = [line.strip() for line in f.readlines()]\n",
    "    \n",
    "# Valid available image IDs\n",
    "valid_imageIDs_available = os.path.join(splitted_imageIDs_txtFiles, \"valid_imageIDs.txt\")\n",
    "with open(valid_imageIDs_available, \"r\") as f:\n",
    "    valid_avail_imgID = [line.strip() for line in f.readlines()]\n",
    "    \n",
    "# Test available image IDs\n",
    "test_imageIDs_available = os.path.join(splitted_imageIDs_txtFiles, \"test_imageIDs.txt\")\n",
    "with open(test_imageIDs_available, \"r\") as f:\n",
    "    test_avail_imgID = [line.strip() for line in f.readlines()]"
   ]
  },
  {
   "cell_type": "markdown",
   "id": "e3c97df8",
   "metadata": {},
   "source": [
    "### Define the transforms"
   ]
  },
  {
   "cell_type": "code",
   "execution_count": 5,
   "id": "2ac1d483",
   "metadata": {},
   "outputs": [],
   "source": [
    "# Define the transforms\n",
    "train_transform = transforms.Compose([\n",
    "                            transforms.Resize((512,512)),\n",
    "                            transforms.RandomRotation((-5, 5)),\n",
    "                            transforms.RandomAffine(0, translate=(10/64, 10/64)),\n",
    "                            transforms.ToTensor()\n",
    "                            ])\n",
    "\n",
    "valid_transform = transforms.Compose([\n",
    "                            transforms.Resize((512,512)),\n",
    "                            transforms.ToTensor()\n",
    "                            ])\n",
    "\n",
    "# Define the datasets and dataloaders\n",
    "batch_size = 32\n",
    "\n",
    "# Train\n",
    "train_dataset = PadChestDataset(datapath, csv_file, train_avail_imgID, train_transform)\n",
    "train_loader = DataLoader(train_dataset, batch_size = batch_size, shuffle = True)\n",
    "\n",
    "# Valid\n",
    "valid_dataset = PadChestDataset(datapath, csv_file, valid_avail_imgID, valid_transform)\n",
    "valid_loader = DataLoader(valid_dataset, batch_size = batch_size, shuffle = True)\n",
    "\n",
    "#Test\n",
    "test_dataset = PadChestDataset(datapath, csv_file, test_avail_imgID, valid_transform)\n",
    "test_loader = DataLoader(test_dataset, batch_size = batch_size, shuffle = True)\n",
    "\n",
    "# Datasets and Dataloader\n",
    "datasets = {'train': train_dataset,'val': valid_dataset, 'test': test_dataset}\n",
    "dataloaders = {'train': train_loader,'val': valid_loader,'test': test_loader}"
   ]
  },
  {
   "cell_type": "code",
   "execution_count": 6,
   "id": "856c2b32",
   "metadata": {},
   "outputs": [
    {
     "name": "stdout",
     "output_type": "stream",
     "text": [
      "Train dataset size: 13144\n",
      "Valid dataset size: 1461\n",
      "Test dataset size: 1623\n"
     ]
    }
   ],
   "source": [
    "dataset_sizes = {x: len(datasets[x]) for x in ['train', 'val', 'test']}\n",
    "print(\"Train dataset size:\",dataset_sizes['train'])\n",
    "print(\"Valid dataset size:\",dataset_sizes['val'])\n",
    "print(\"Test dataset size:\",dataset_sizes['test'])"
   ]
  },
  {
   "cell_type": "markdown",
   "id": "05bcccbc",
   "metadata": {},
   "source": [
    "## 2. Define the model, criterion and optimizer </h1>"
   ]
  },
  {
   "cell_type": "markdown",
   "id": "5d3cf00b",
   "metadata": {},
   "source": [
    "### Resnet-18 TL"
   ]
  },
  {
   "cell_type": "code",
   "execution_count": 8,
   "id": "2901ff82",
   "metadata": {},
   "outputs": [],
   "source": [
    "# Load the model pretrained in Covid-19 Dataset\n",
    "model = models.resnet18(pretrained = True)\n",
    "    \n",
    "# Replace the FC layer with a classifier that has 1 class\n",
    "num_ftrs = model.fc.in_features\n",
    "model.fc = nn.Linear(num_ftrs, 1)\n",
    "model = model.to(DEVICE)"
   ]
  },
  {
   "cell_type": "code",
   "execution_count": 9,
   "id": "d2e9246a",
   "metadata": {},
   "outputs": [],
   "source": [
    "criterion = nn.BCEWithLogitsLoss(reduction='mean')\n",
    "optim = torch.optim.SGD(model.parameters(), 0.001, weight_decay=0.0001, momentum=0.9)"
   ]
  },
  {
   "cell_type": "markdown",
   "id": "b682e243",
   "metadata": {},
   "source": [
    "## 3. Train the model"
   ]
  },
  {
   "cell_type": "code",
   "execution_count": 19,
   "id": "a4dda0a6",
   "metadata": {},
   "outputs": [],
   "source": [
    "def train_model(model, dataloaders, criterion, optimizer, num_epochs=20):\n",
    "    since = time.time()\n",
    "\n",
    "    best_model_wts = copy.deepcopy(model.state_dict())\n",
    "    best_acc = 0.0\n",
    "\n",
    "    for epoch in range(num_epochs):\n",
    "        print(f'Epoch {epoch}/{num_epochs - 1}')\n",
    "        print('-' * 10)\n",
    "\n",
    "        # Each epoch has a training and validation phase\n",
    "        for phase in ['train', 'val']:\n",
    "            if phase == 'train':\n",
    "                model.train()  # Set model to training mode\n",
    "            else:\n",
    "                model.eval()   # Set model to evaluate mode\n",
    "\n",
    "            running_loss = 0.0\n",
    "            running_corrects = 0\n",
    "\n",
    "            # Iterate over data.\n",
    "            for inputs, labels in dataloaders[phase]:\n",
    "                inputs = inputs.to(DEVICE)\n",
    "                labels = labels.to(DEVICE)\n",
    "                labels = labels.view(labels.size()[0],-1) #add for BCE loss\n",
    "\n",
    "                # zero the parameter gradients\n",
    "                optimizer.zero_grad()\n",
    "\n",
    "                # forward\n",
    "                # track history if only in train\n",
    "                with torch.set_grad_enabled(phase == 'train'):\n",
    "                    outputs = model(inputs)\n",
    "                    if isinstance(outputs, tuple):\n",
    "                        outputs = outputs[0]\n",
    "                        score = torch.sigmoid(outputs)\n",
    "                    else:\n",
    "                        score = torch.sigmoid(outputs)\n",
    "                    preds = score>0.5\n",
    "                    preds = preds.type(torch.cuda.LongTensor)\n",
    "                \n",
    "                    labels = labels.type(torch.cuda.FloatTensor) #add for BCE loss\n",
    "                    loss = criterion(outputs, labels)\n",
    "                    \n",
    "                    # backward + optimize only if in training phase\n",
    "                    if phase == 'train':\n",
    "                        loss.backward()\n",
    "                        optimizer.step()\n",
    "\n",
    "                # statistics\n",
    "                running_loss += loss.item() * inputs.size(0)\n",
    "                running_corrects += torch.sum(preds == labels.data)\n",
    "\n",
    "            epoch_loss = running_loss / dataset_sizes[phase]\n",
    "            epoch_acc = running_corrects.double() / dataset_sizes[phase]\n",
    "            \n",
    "            if phase == 'train':\n",
    "                writer.add_scalars('Loss', {'Loss/train': epoch_loss},epoch)\n",
    "                writer.add_scalars('Accuracy',{'Accuracy/train':epoch_acc},epoch)\n",
    "\n",
    "            \n",
    "            elif phase == 'val':\n",
    "                writer.add_scalars('Loss', {'Loss/val': epoch_loss},epoch)\n",
    "                writer.add_scalars('Accuracy',{'Accuracy/val':epoch_acc},epoch)\n",
    "\n",
    "\n",
    "            print(f'{phase} Loss: {epoch_loss:.4f} Acc: {epoch_acc:.4f}')\n",
    "\n",
    "            # deep copy the model\n",
    "            if phase == 'val' and epoch_acc > best_acc:\n",
    "                best_acc = epoch_acc\n",
    "                best_model_wts = copy.deepcopy(model.state_dict())\n",
    "                torch.save(model, os.path.join('resnet18_cardiomegaly.pth'))\n",
    "                print('Model saved!')\n",
    "\n",
    "                \n",
    "\n",
    "    time_elapsed = time.time() - since\n",
    "    print(f'Training complete in {time_elapsed // 60:.0f}m {time_elapsed % 60:.0f}s')\n",
    "    print(f'Best val Acc: {best_acc:4f}')\n",
    "\n",
    "    # load best model weights\n",
    "    writer.flush()"
   ]
  },
  {
   "cell_type": "code",
   "execution_count": 20,
   "id": "825365e8",
   "metadata": {
    "scrolled": true
   },
   "outputs": [
    {
     "name": "stdout",
     "output_type": "stream",
     "text": [
      "Epoch 0/9\n",
      "----------\n",
      "train Loss: 0.2917 Acc: 0.8776\n",
      "val Loss: 0.3559 Acc: 0.8563\n",
      "Model saved!\n",
      "Epoch 1/9\n",
      "----------\n",
      "train Loss: 0.3015 Acc: 0.8732\n",
      "val Loss: 0.3473 Acc: 0.8631\n",
      "Model saved!\n",
      "Epoch 2/9\n",
      "----------\n",
      "train Loss: 0.2987 Acc: 0.8739\n",
      "val Loss: 0.3503 Acc: 0.8569\n",
      "Epoch 3/9\n",
      "----------\n",
      "train Loss: 0.3013 Acc: 0.8717\n",
      "val Loss: 0.3597 Acc: 0.8522\n",
      "Epoch 4/9\n",
      "----------\n",
      "train Loss: 0.2938 Acc: 0.8749\n",
      "val Loss: 0.3669 Acc: 0.8508\n",
      "Epoch 5/9\n",
      "----------\n",
      "train Loss: 0.2952 Acc: 0.8755\n",
      "val Loss: 0.3535 Acc: 0.8569\n",
      "Epoch 6/9\n",
      "----------\n",
      "train Loss: 0.2985 Acc: 0.8730\n",
      "val Loss: 0.3472 Acc: 0.8617\n",
      "Epoch 7/9\n",
      "----------\n",
      "train Loss: 0.2977 Acc: 0.8764\n",
      "val Loss: 0.3523 Acc: 0.8563\n",
      "Epoch 8/9\n",
      "----------\n",
      "train Loss: 0.2951 Acc: 0.8778\n",
      "val Loss: 0.3573 Acc: 0.8528\n",
      "Epoch 9/9\n",
      "----------\n",
      "train Loss: 0.2960 Acc: 0.8742\n",
      "val Loss: 0.3611 Acc: 0.8528\n",
      "Training complete in 52m 47s\n",
      "Best val Acc: 0.863107\n"
     ]
    }
   ],
   "source": [
    "train_model(model, dataloaders, criterion, optim, num_epochs = 10)"
   ]
  },
  {
   "cell_type": "markdown",
   "id": "9ad0ed8a",
   "metadata": {},
   "source": [
    "# Evaluation metrics"
   ]
  },
  {
   "cell_type": "code",
   "execution_count": 7,
   "id": "17a7951d",
   "metadata": {},
   "outputs": [
    {
     "data": {
      "text/plain": [
       "ResNet(\n",
       "  (conv1): Conv2d(3, 64, kernel_size=(7, 7), stride=(2, 2), padding=(3, 3), bias=False)\n",
       "  (bn1): BatchNorm2d(64, eps=1e-05, momentum=0.1, affine=True, track_running_stats=True)\n",
       "  (relu): ReLU(inplace=True)\n",
       "  (maxpool): MaxPool2d(kernel_size=3, stride=2, padding=1, dilation=1, ceil_mode=False)\n",
       "  (layer1): Sequential(\n",
       "    (0): BasicBlock(\n",
       "      (conv1): Conv2d(64, 64, kernel_size=(3, 3), stride=(1, 1), padding=(1, 1), bias=False)\n",
       "      (bn1): BatchNorm2d(64, eps=1e-05, momentum=0.1, affine=True, track_running_stats=True)\n",
       "      (relu): ReLU(inplace=True)\n",
       "      (conv2): Conv2d(64, 64, kernel_size=(3, 3), stride=(1, 1), padding=(1, 1), bias=False)\n",
       "      (bn2): BatchNorm2d(64, eps=1e-05, momentum=0.1, affine=True, track_running_stats=True)\n",
       "    )\n",
       "    (1): BasicBlock(\n",
       "      (conv1): Conv2d(64, 64, kernel_size=(3, 3), stride=(1, 1), padding=(1, 1), bias=False)\n",
       "      (bn1): BatchNorm2d(64, eps=1e-05, momentum=0.1, affine=True, track_running_stats=True)\n",
       "      (relu): ReLU(inplace=True)\n",
       "      (conv2): Conv2d(64, 64, kernel_size=(3, 3), stride=(1, 1), padding=(1, 1), bias=False)\n",
       "      (bn2): BatchNorm2d(64, eps=1e-05, momentum=0.1, affine=True, track_running_stats=True)\n",
       "    )\n",
       "  )\n",
       "  (layer2): Sequential(\n",
       "    (0): BasicBlock(\n",
       "      (conv1): Conv2d(64, 128, kernel_size=(3, 3), stride=(2, 2), padding=(1, 1), bias=False)\n",
       "      (bn1): BatchNorm2d(128, eps=1e-05, momentum=0.1, affine=True, track_running_stats=True)\n",
       "      (relu): ReLU(inplace=True)\n",
       "      (conv2): Conv2d(128, 128, kernel_size=(3, 3), stride=(1, 1), padding=(1, 1), bias=False)\n",
       "      (bn2): BatchNorm2d(128, eps=1e-05, momentum=0.1, affine=True, track_running_stats=True)\n",
       "      (downsample): Sequential(\n",
       "        (0): Conv2d(64, 128, kernel_size=(1, 1), stride=(2, 2), bias=False)\n",
       "        (1): BatchNorm2d(128, eps=1e-05, momentum=0.1, affine=True, track_running_stats=True)\n",
       "      )\n",
       "    )\n",
       "    (1): BasicBlock(\n",
       "      (conv1): Conv2d(128, 128, kernel_size=(3, 3), stride=(1, 1), padding=(1, 1), bias=False)\n",
       "      (bn1): BatchNorm2d(128, eps=1e-05, momentum=0.1, affine=True, track_running_stats=True)\n",
       "      (relu): ReLU(inplace=True)\n",
       "      (conv2): Conv2d(128, 128, kernel_size=(3, 3), stride=(1, 1), padding=(1, 1), bias=False)\n",
       "      (bn2): BatchNorm2d(128, eps=1e-05, momentum=0.1, affine=True, track_running_stats=True)\n",
       "    )\n",
       "  )\n",
       "  (layer3): Sequential(\n",
       "    (0): BasicBlock(\n",
       "      (conv1): Conv2d(128, 256, kernel_size=(3, 3), stride=(2, 2), padding=(1, 1), bias=False)\n",
       "      (bn1): BatchNorm2d(256, eps=1e-05, momentum=0.1, affine=True, track_running_stats=True)\n",
       "      (relu): ReLU(inplace=True)\n",
       "      (conv2): Conv2d(256, 256, kernel_size=(3, 3), stride=(1, 1), padding=(1, 1), bias=False)\n",
       "      (bn2): BatchNorm2d(256, eps=1e-05, momentum=0.1, affine=True, track_running_stats=True)\n",
       "      (downsample): Sequential(\n",
       "        (0): Conv2d(128, 256, kernel_size=(1, 1), stride=(2, 2), bias=False)\n",
       "        (1): BatchNorm2d(256, eps=1e-05, momentum=0.1, affine=True, track_running_stats=True)\n",
       "      )\n",
       "    )\n",
       "    (1): BasicBlock(\n",
       "      (conv1): Conv2d(256, 256, kernel_size=(3, 3), stride=(1, 1), padding=(1, 1), bias=False)\n",
       "      (bn1): BatchNorm2d(256, eps=1e-05, momentum=0.1, affine=True, track_running_stats=True)\n",
       "      (relu): ReLU(inplace=True)\n",
       "      (conv2): Conv2d(256, 256, kernel_size=(3, 3), stride=(1, 1), padding=(1, 1), bias=False)\n",
       "      (bn2): BatchNorm2d(256, eps=1e-05, momentum=0.1, affine=True, track_running_stats=True)\n",
       "    )\n",
       "  )\n",
       "  (layer4): Sequential(\n",
       "    (0): BasicBlock(\n",
       "      (conv1): Conv2d(256, 512, kernel_size=(3, 3), stride=(2, 2), padding=(1, 1), bias=False)\n",
       "      (bn1): BatchNorm2d(512, eps=1e-05, momentum=0.1, affine=True, track_running_stats=True)\n",
       "      (relu): ReLU(inplace=True)\n",
       "      (conv2): Conv2d(512, 512, kernel_size=(3, 3), stride=(1, 1), padding=(1, 1), bias=False)\n",
       "      (bn2): BatchNorm2d(512, eps=1e-05, momentum=0.1, affine=True, track_running_stats=True)\n",
       "      (downsample): Sequential(\n",
       "        (0): Conv2d(256, 512, kernel_size=(1, 1), stride=(2, 2), bias=False)\n",
       "        (1): BatchNorm2d(512, eps=1e-05, momentum=0.1, affine=True, track_running_stats=True)\n",
       "      )\n",
       "    )\n",
       "    (1): BasicBlock(\n",
       "      (conv1): Conv2d(512, 512, kernel_size=(3, 3), stride=(1, 1), padding=(1, 1), bias=False)\n",
       "      (bn1): BatchNorm2d(512, eps=1e-05, momentum=0.1, affine=True, track_running_stats=True)\n",
       "      (relu): ReLU(inplace=True)\n",
       "      (conv2): Conv2d(512, 512, kernel_size=(3, 3), stride=(1, 1), padding=(1, 1), bias=False)\n",
       "      (bn2): BatchNorm2d(512, eps=1e-05, momentum=0.1, affine=True, track_running_stats=True)\n",
       "    )\n",
       "  )\n",
       "  (avgpool): AdaptiveAvgPool2d(output_size=(1, 1))\n",
       "  (fc): Linear(in_features=512, out_features=1, bias=True)\n",
       ")"
      ]
     },
     "execution_count": 7,
     "metadata": {},
     "output_type": "execute_result"
    }
   ],
   "source": [
    "# Load model\n",
    "model = torch.load(os.path.join('models','resnet18_cardiomegaly.pth'))\n",
    "model.to(DEVICE)"
   ]
  },
  {
   "cell_type": "code",
   "execution_count": 8,
   "id": "dc4c271d",
   "metadata": {},
   "outputs": [],
   "source": [
    "model.eval()\n",
    "running_corrects = 0\n",
    "output_list = []\n",
    "label_list = []\n",
    "preds_list = []\n",
    "prob_list = []\n",
    "\n",
    "with torch.no_grad():\n",
    "        for data in test_loader:\n",
    "            inputs, labels = data\n",
    "\n",
    "            labels_auc = labels\n",
    "            labels_print = labels\n",
    "            labels_auc = labels_auc.type(torch.FloatTensor)\n",
    "            labels = labels.type(torch.LongTensor) #add for BCE loss\n",
    "\n",
    "            # wrap them in Variable\n",
    "            inputs = inputs.to(DEVICE)\n",
    "            labels = labels.to(DEVICE)\n",
    "            labels_auc = labels_auc.to(DEVICE)\n",
    "\n",
    "            labels = labels.view(labels.size()[0],-1) #add for BCE loss\n",
    "            labels_auc = labels_auc.view(labels_auc.size()[0],-1) #add for BCE loss\n",
    "            # forward\n",
    "            outputs = model(inputs)\n",
    "            # _, preds = torch.max(outputs.data, 1)\n",
    "            score = torch.sigmoid(outputs)\n",
    "            score_np = score.data.cpu().numpy()\n",
    "            preds = score>0.5\n",
    "            preds_np = preds.data.cpu().numpy()\n",
    "            preds = preds.type(torch.cuda.LongTensor)\n",
    "\n",
    "            labels_auc = labels_auc.data.cpu().numpy()\n",
    "            outputs = outputs.data.cpu().numpy()\n",
    "\n",
    "            for i in range(outputs.shape[0]):\n",
    "                output_list.append(outputs[i].tolist())\n",
    "                prob_list.append(score_np[i].tolist())\n",
    "                label_list.append(labels_auc[i].tolist())\n",
    "                preds_list.append(preds_np[i].tolist())\n",
    "\n",
    "            running_corrects += torch.sum(preds.data == labels.data) #add for BCE loss"
   ]
  },
  {
   "cell_type": "markdown",
   "id": "ff9444a7",
   "metadata": {},
   "source": [
    "### Statistics"
   ]
  },
  {
   "cell_type": "code",
   "execution_count": 9,
   "id": "a45bbb4f",
   "metadata": {},
   "outputs": [
    {
     "name": "stdout",
     "output_type": "stream",
     "text": [
      "Test Accuracy: 0.8614  Test AUC: 0.9353  Test_AP: 0.9203\n",
      "TP: 711  FP: 131  TN: 687  FN: 94\n",
      "Sensitivity: 0.8832  Specificity: 0.8399\n",
      "Precision: 84.44%  Recall: 88.32%  F1: 0.8634\n",
      "PPV: 0.8444  NPV: 0.8796\n"
     ]
    }
   ],
   "source": [
    "# SHOW STATISTICS\n",
    "acc = np.float(running_corrects) / dataset_sizes['test']\n",
    "auc = metrics.roc_auc_score(np.array(label_list), np.array(output_list), average=None)\n",
    "\n",
    "fpr, tpr, threshold = metrics.roc_curve(np.array(label_list), np.array(output_list))\n",
    "roc_auc = metrics.auc(fpr, tpr)\n",
    "\n",
    "ap = metrics.average_precision_score(np.array(label_list), np.array(output_list))\n",
    "\n",
    "tn, fp, fn, tp = metrics.confusion_matrix(label_list, preds_list).ravel()\n",
    "\n",
    "recall = tp/(tp+fn)\n",
    "precision = tp/(tp+fp)\n",
    "f1 = 2*precision*recall/(precision+recall)\n",
    "sensitivity = recall\n",
    "specificity = tn/(tn+fp)\n",
    "PPV = tp/(tp+fp)\n",
    "NPV = tn/(tn+fn)\n",
    "\n",
    "print('Test Accuracy: {0:.4f}  Test AUC: {1:.4f}  Test_AP: {2:.4f}'.format(acc, auc, ap))\n",
    "print('TP: {0:}  FP: {1:}  TN: {2:}  FN: {3:}'.format(tp, fp, tn, fn))\n",
    "print('Sensitivity: {0:.4f}  Specificity: {1:.4f}'.format(sensitivity, specificity))\n",
    "print('Precision: {0:.2f}%  Recall: {1:.2f}%  F1: {2:.4f}'.format(precision*100, recall*100, f1))\n",
    "print('PPV: {0:.4f}  NPV: {1:.4f}'.format(PPV, NPV))"
   ]
  },
  {
   "cell_type": "markdown",
   "id": "e58ec062",
   "metadata": {},
   "source": [
    "### Classification report"
   ]
  },
  {
   "cell_type": "code",
   "execution_count": 10,
   "id": "133ef915",
   "metadata": {},
   "outputs": [
    {
     "name": "stdout",
     "output_type": "stream",
     "text": [
      "                  precision    recall  f1-score   support\n",
      "\n",
      "not cardiomegaly     0.8796    0.8399    0.8593       818\n",
      "    cardiomegaly     0.8444    0.8832    0.8634       805\n",
      "\n",
      "        accuracy                         0.8614      1623\n",
      "       macro avg     0.8620    0.8615    0.8613      1623\n",
      "    weighted avg     0.8622    0.8614    0.8613      1623\n",
      "\n"
     ]
    }
   ],
   "source": [
    "from sklearn.metrics import classification_report\n",
    "class_names = [\"not cardiomegaly\",\"cardiomegaly\"]\n",
    "print(classification_report(label_list, preds_list, target_names = class_names, digits = 4))"
   ]
  },
  {
   "cell_type": "markdown",
   "id": "01540460",
   "metadata": {},
   "source": [
    "### Confusion Matrix"
   ]
  },
  {
   "cell_type": "code",
   "execution_count": 34,
   "id": "36d8e848",
   "metadata": {},
   "outputs": [
    {
     "data": {
      "image/png": "[encoded data removed]",
      "text/plain": [
       "<Figure size 640x480 with 2 Axes>"
      ]
     },
     "metadata": {},
     "output_type": "display_data"
    }
   ],
   "source": [
    "import numpy as np\n",
    "import matplotlib.pyplot as plt\n",
    "import seaborn as sns\n",
    "\n",
    "# Compute the confusion matrix\n",
    "cmat = confusion_matrix(label_list, preds_list, normalize='true')\n",
    "\n",
    "# Round the values in the confusion matrix\n",
    "cmat_rounded = np.round(cmat, decimals=4)\n",
    "\n",
    "# Create visualization\n",
    "ax = sns.heatmap(cmat_rounded * 100, annot=True, cmap='Oranges', fmt='.2f')\n",
    "\n",
    "for t in ax.texts:\n",
    "    t.set_text(t.get_text() + \" %\")\n",
    "\n",
    "# Set the axis labels\n",
    "ax.set_xlabel('\\nPredicted Values')\n",
    "ax.set_ylabel('Actual Values')\n",
    "ax.xaxis.set_ticklabels(['not cardiomegaly', 'cardiomegaly'])\n",
    "ax.yaxis.set_ticklabels(['not cardiomegaly', 'cardiomegaly'])\n",
    "\n",
    "# Show the plot\n",
    "plt.show()\n"
   ]
  },
  {
   "cell_type": "code",
   "execution_count": 35,
   "id": "bab86981",
   "metadata": {},
   "outputs": [
    {
     "name": "stdout",
     "output_type": "stream",
     "text": [
      "True Negative(TN)=  687\n",
      "False Positive(FP)= 131\n",
      "False Negative(FN)= 94\n",
      "True Positive(TP)=  711\n"
     ]
    }
   ],
   "source": [
    "tn, fp, fn, tp  = confusion_matrix(label_list, preds_list).ravel()\n",
    "print('True Negative(TN)=  %s\\nFalse Positive(FP)= %s\\nFalse Negative(FN)= %s\\nTrue Positive(TP)=  %s' % (tn, fp, fn,tp))"
   ]
  },
  {
   "cell_type": "markdown",
   "id": "dfb82aae",
   "metadata": {},
   "source": [
    "### Plot ROC-Curve and calculate AUC"
   ]
  },
  {
   "cell_type": "code",
   "execution_count": 12,
   "id": "cee48879",
   "metadata": {},
   "outputs": [
    {
     "data": {
      "image/png": "[encoded data removed]",
      "text/plain": [
       "<Figure size 640x480 with 1 Axes>"
      ]
     },
     "metadata": {},
     "output_type": "display_data"
    }
   ],
   "source": [
    "fpr, tpr, threshold = metrics.roc_curve(np.array(label_list), np.array(output_list))\n",
    "#ROC CURVE\n",
    "plt.figure()\n",
    "plt.plot(fpr, tpr, lw=2, color='red', label='Cardiomegaly (AUC = %0.4f)' % roc_auc)\n",
    "plt.plot([0, 1], [0, 1], color='indianred', lw=2, linestyle='--')\n",
    "\n",
    "plt.xlabel('False Positive Rate')\n",
    "plt.ylabel('True Positive Rate')\n",
    "plt.title('ROC curve: Cardiomegaly')\n",
    "plt.legend(loc=\"lower right\")\n",
    "plt.show()"
   ]
  },
  {
   "cell_type": "code",
   "execution_count": null,
   "id": "17836591",
   "metadata": {},
   "outputs": [],
   "source": []
  }
 ],
 "metadata": {
  "kernelspec": {
   "display_name": "Python 3 (ipykernel)",
   "language": "python",
   "name": "python3"
  },
  "language_info": {
   "codemirror_mode": {
    "name": "ipython",
    "version": 3
   },
   "file_extension": ".py",
   "mimetype": "text/x-python",
   "name": "python",
   "nbconvert_exporter": "python",
   "pygments_lexer": "ipython3",
   "version": "3.8.12"
  }
 },
 "nbformat": 4,
 "nbformat_minor": 5
}
