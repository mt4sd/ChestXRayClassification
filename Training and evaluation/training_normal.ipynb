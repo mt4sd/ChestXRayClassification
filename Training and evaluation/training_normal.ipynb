{
 "cells": [
  {
   "cell_type": "markdown",
   "id": "ee0f7517",
   "metadata": {},
   "source": [
    "# Training Script to classify Chest XRay images into: normal/abnormal"
   ]
  },
  {
   "cell_type": "markdown",
   "id": "1d77552b",
   "metadata": {},
   "source": [
    "### Dataset: \n",
    "The study utilized the PadChest dataset with a size of 512x512 pixels. Only posteroanterior (PA) images were used, and any images labeled as \"exclude\" or \"suboptimal study\" were excluded from the analysis. 72 images were manually discarded, and the remaining images were divided into two balanced classes: \"normal\" and \"abnormal.\" In total: 68366 images"
   ]
  },
  {
   "cell_type": "markdown",
   "id": "260ab076",
   "metadata": {},
   "source": [
    "### Model: \n",
    "Resnet18 pretrained in BIMCV-COVID-19, 3 Channels as inputs, 1 output"
   ]
  },
  {
   "cell_type": "markdown",
   "id": "51b24106",
   "metadata": {},
   "source": [
    "# Import libraries"
   ]
  },
  {
   "cell_type": "code",
   "execution_count": 1,
   "id": "4dbb23ff",
   "metadata": {},
   "outputs": [
    {
     "name": "stdout",
     "output_type": "stream",
     "text": [
      "Device: cuda\n"
     ]
    }
   ],
   "source": [
    "import pandas as pd\n",
    "from skimage.io import imread\n",
    "from matplotlib import pyplot as plt\n",
    "import time\n",
    "import os\n",
    "import copy\n",
    "import cv2 \n",
    "import numpy as np\n",
    "from PIL import Image\n",
    "\n",
    "# AI framework\n",
    "import torch\n",
    "from torch.utils.data import Dataset, DataLoader\n",
    "from torchvision import models, transforms\n",
    "import torch.nn as nn\n",
    "import torchxrayvision as xrv\n",
    "\n",
    "# Visualize the evolution of the model during training\n",
    "from torch.utils.tensorboard import SummaryWriter\n",
    "writer = SummaryWriter()\n",
    "\n",
    "# Statistical analysis on the test dataset:\n",
    "import sklearn\n",
    "from sklearn import metrics\n",
    "from sklearn.metrics import confusion_matrix\n",
    "import seaborn as sns\n",
    "from sklearn.metrics import roc_auc_score, auc\n",
    "from sklearn.metrics import roc_curve\n",
    "\n",
    "# Device\n",
    "DEVICE = torch.device(\"cuda\" if torch.cuda.is_available() else \"cpu\")\n",
    "print(f'Device: {DEVICE}')"
   ]
  },
  {
   "cell_type": "markdown",
   "id": "17f084b5",
   "metadata": {},
   "source": [
    "# 1. Import data and pre-processing"
   ]
  },
  {
   "cell_type": "markdown",
   "id": "a2e3229e",
   "metadata": {},
   "source": [
    "## 1.1 Create a class to manage the dataset"
   ]
  },
  {
   "cell_type": "code",
   "execution_count": 2,
   "id": "feb68858",
   "metadata": {},
   "outputs": [],
   "source": [
    "# Define a personalized class for the dataset\n",
    "class PadChestDataset(Dataset):\n",
    "    \n",
    "    def __init__(self, img_dir, csv_file, avail_imgID, transform = None):\n",
    "        self.labels = pd.read_csv(csv_file, low_memory = False)\n",
    "        \n",
    "        # Filter by available image files\n",
    "        self.labels = self.labels[self.labels[\"ImageID\"].isin(avail_imgID)]\n",
    "       \n",
    "        # Create a dictionary to create binary labels: \"normal\": 1 and \"others\":0\n",
    "        self.label_dict= {\"normal\": 0, \"others\": 1}\n",
    "        \n",
    "        # Initializes instance variables img_dir and transform\n",
    "        self.img_dir = img_dir\n",
    "        self.transform = transform\n",
    "        \n",
    "    def normalize(self,image, rangeValues = (0, 1), dtype = np.float32):\n",
    "        \"\"\"\n",
    "        Scales intensity values in the image to be within a specific range.\n",
    "\n",
    "        :param image: input array\n",
    "        :param rangeValue: minimum and maximum values defining the desired output range\n",
    "        :param dtype: type of data for intensity value\n",
    "\n",
    "        :return normalized image\n",
    "        \"\"\"\n",
    "        image = np.array(image)\n",
    "        image_norm = (image - np.min(image))/(np.max(image) - np.min(image)) # scale between zero and one\n",
    "        image_norm = image_norm * (rangeValues[1] - rangeValues[0]) + rangeValues[0]\n",
    "        return image_norm.astype(dtype)\n",
    "\n",
    "\n",
    "    def equalize(self, image):    \n",
    "        clahe = cv2.createCLAHE(clipLimit=40.0, tileGridSize=(8,8))\n",
    "        clahe_img = clahe.apply(image)\n",
    "\n",
    "        kernel = cv2.getStructuringElement(cv2.MORPH_RECT, (15, 15)) # MORPH_ELLIPSE\n",
    "        eq_img = cv2.equalizeHist(image)\n",
    "        tophat = cv2.morphologyEx(eq_img, cv2.MORPH_TOPHAT, kernel)\n",
    "        bothat = cv2.morphologyEx(eq_img, cv2.MORPH_BLACKHAT, kernel)\n",
    "        hat_img = eq_img + tophat - bothat\n",
    "\n",
    "        return np.dstack((image, clahe_img, hat_img))\n",
    "        \n",
    "\n",
    "    def __len__(self):\n",
    "        return len(self.labels)\n",
    "\n",
    "    def __getitem__(self, idx):\n",
    "        \n",
    "        # Get labels: Map the csv labels to binary tags: 0 for normal or 1 for others\n",
    "        csv_labels_name = self.labels['Labels'].iloc[idx]\n",
    "        \n",
    "        if csv_labels_name == \"['normal']\":\n",
    "            labels = self.label_dict[\"normal\"]\n",
    "        else:\n",
    "            labels = self.label_dict[\"others\"]\n",
    "            \n",
    "        # Get image paths\n",
    "        imgid = self.labels['ImageID'].iloc[idx]\n",
    "        img_path = os.path.join(self.img_dir, imgid)\n",
    "     \n",
    "        # Step 1: Load the image\n",
    "        image_original = cv2.imread(img_path, cv2.IMREAD_UNCHANGED) \n",
    "        image_norm= self.normalize(image = image_original, rangeValues = (0, 255), dtype = np.uint8)\n",
    "\n",
    "        # Step 2: Equalize\n",
    "        image_eq = self.equalize(image_norm)\n",
    "        img_trans = image_eq[...,::-1] # Invert the order of the channels\n",
    "\n",
    "        # Step 3: Resize and transform to tensor   \n",
    "        if self.transform:\n",
    "            img_trans = self.transform(Image.fromarray(img_trans)).to(DEVICE)\n",
    "            \n",
    "        return img_trans, labels"
   ]
  },
  {
   "cell_type": "markdown",
   "id": "0692bd7e",
   "metadata": {},
   "source": [
    "## 1.2 Define the datasets and dataloaders"
   ]
  },
  {
   "cell_type": "markdown",
   "id": "6a685b49",
   "metadata": {},
   "source": [
    "### Paths"
   ]
  },
  {
   "cell_type": "code",
   "execution_count": 3,
   "id": "b71f3950",
   "metadata": {},
   "outputs": [],
   "source": [
    "# Define the paths\n",
    "# Image paths\n",
    "datapath = '../../../../../../Data/PadChest512_PA_Manually_Filtered' \n",
    "\n",
    "# Labels path\n",
    "csv_file = os.path.join('../../../../../../Data', \"PADCHEST_chest_x_ray_images_labels_160K_01.02.19.csv\")"
   ]
  },
  {
   "cell_type": "markdown",
   "id": "199d842b",
   "metadata": {},
   "source": [
    "### Filter the images"
   ]
  },
  {
   "cell_type": "code",
   "execution_count": 6,
   "id": "ab31f2a9",
   "metadata": {},
   "outputs": [],
   "source": [
    "# Train available image IDs\n",
    "splitted_imageIDs_txtFiles = \"../../../../Resources/txt_files/PC512_Full_PA_filtered_dataset/classifcation_normal_balanced_split_Full_PA_imageIDs\"\n",
    "\n",
    "train_imageIDs_available = os.path.join(splitted_imageIDs_txtFiles, \"Full_PA_balanced_train_imageIDs.txt\")\n",
    "with open(train_imageIDs_available, \"r\") as f:\n",
    "    train_avail_imgID = [line.strip() for line in f.readlines()]\n",
    "    \n",
    "# Valid available image IDs\n",
    "valid_imageIDs_available = os.path.join(splitted_imageIDs_txtFiles, \"Full_PA_balanced_valid_imageIDs.txt\")\n",
    "with open(valid_imageIDs_available, \"r\") as f:\n",
    "    valid_avail_imgID = [line.strip() for line in f.readlines()]\n",
    "    \n",
    "# Test available image IDs\n",
    "test_imageIDs_available = os.path.join(splitted_imageIDs_txtFiles, \"Full_PA_balanced_test_imageIDs.txt\")\n",
    "with open(test_imageIDs_available, \"r\") as f:\n",
    "    test_avail_imgID = [line.strip() for line in f.readlines()]"
   ]
  },
  {
   "cell_type": "markdown",
   "id": "e3c97df8",
   "metadata": {},
   "source": [
    "### Define the transforms"
   ]
  },
  {
   "cell_type": "code",
   "execution_count": 7,
   "id": "2ac1d483",
   "metadata": {},
   "outputs": [],
   "source": [
    "# Define the transforms\n",
    "train_transform = transforms.Compose([\n",
    "                            transforms.Resize((512,512)),\n",
    "                            transforms.RandomRotation((-5, 5)),\n",
    "                            transforms.RandomAffine(0, translate=(10/64, 10/64)),\n",
    "                            transforms.ToTensor()\n",
    "                            ])\n",
    "\n",
    "valid_transform = transforms.Compose([\n",
    "                            transforms.Resize((512,512)),\n",
    "                            transforms.ToTensor()\n",
    "                            ])\n",
    "\n",
    "# Define the datasets and dataloaders\n",
    "batch_size = 32\n",
    "\n",
    "# Train\n",
    "train_dataset = PadChestDataset(datapath, csv_file, train_avail_imgID, train_transform)\n",
    "train_loader = DataLoader(train_dataset, batch_size = batch_size, shuffle = True)\n",
    "\n",
    "# Valid\n",
    "valid_dataset = PadChestDataset(datapath, csv_file, valid_avail_imgID, valid_transform)\n",
    "valid_loader = DataLoader(valid_dataset, batch_size = batch_size, shuffle = True)\n",
    "\n",
    "#Test\n",
    "test_dataset = PadChestDataset(datapath, csv_file, test_avail_imgID, valid_transform)\n",
    "test_loader = DataLoader(test_dataset, batch_size = batch_size, shuffle = True)\n",
    "\n",
    "# Datasets and Dataloader\n",
    "datasets = {'train': train_dataset,'val': valid_dataset, 'test': test_dataset}\n",
    "dataloaders = {'train': train_loader,'val': valid_loader,'test': test_loader}"
   ]
  },
  {
   "cell_type": "code",
   "execution_count": 8,
   "id": "856c2b32",
   "metadata": {},
   "outputs": [
    {
     "name": "stdout",
     "output_type": "stream",
     "text": [
      "Train dataset size: 55376\n",
      "Valid dataset size: 6837\n",
      "Test dataset size: 6153\n"
     ]
    }
   ],
   "source": [
    "dataset_sizes = {x: len(datasets[x]) for x in ['train', 'val', 'test']}\n",
    "print(\"Train dataset size:\",dataset_sizes['train'])\n",
    "print(\"Valid dataset size:\",dataset_sizes['val'])\n",
    "print(\"Test dataset size:\",dataset_sizes['test'])"
   ]
  },
  {
   "cell_type": "markdown",
   "id": "05bcccbc",
   "metadata": {},
   "source": [
    "## 2. Define the model, criterion and optimizer </h1>"
   ]
  },
  {
   "cell_type": "markdown",
   "id": "5d3cf00b",
   "metadata": {},
   "source": [
    "### Resnet-18 TL"
   ]
  },
  {
   "cell_type": "code",
   "execution_count": 8,
   "id": "2901ff82",
   "metadata": {},
   "outputs": [],
   "source": [
    "# Load the model pretrained in Covid-19 Dataset\n",
    "model = torch.load(os.path.join('.../Resources/Models/','normal-resnet18.pth'))\n",
    "    \n",
    "# Replace the FC layer with a classifier that has 1 class\n",
    "num_ftrs = model.fc.in_features\n",
    "model.fc = nn.Linear(num_ftrs, 1)\n",
    "model = model.to(DEVICE)"
   ]
  },
  {
   "cell_type": "code",
   "execution_count": 9,
   "id": "d2e9246a",
   "metadata": {},
   "outputs": [],
   "source": [
    "criterion = nn.BCEWithLogitsLoss(reduction='mean')\n",
    "optim = torch.optim.SGD(model.parameters(), 0.001, weight_decay=0.0001, momentum=0.9)"
   ]
  },
  {
   "cell_type": "markdown",
   "id": "b682e243",
   "metadata": {},
   "source": [
    "## 3. Train the model"
   ]
  },
  {
   "cell_type": "code",
   "execution_count": 10,
   "id": "a4dda0a6",
   "metadata": {},
   "outputs": [],
   "source": [
    "def train_model(model, dataloaders, criterion, optimizer, num_epochs=20):\n",
    "    since = time.time()\n",
    "\n",
    "    best_model_wts = copy.deepcopy(model.state_dict())\n",
    "    best_acc = 0.0\n",
    "\n",
    "    for epoch in range(num_epochs):\n",
    "        print(f'Epoch {epoch}/{num_epochs - 1}')\n",
    "        print('-' * 10)\n",
    "\n",
    "        # Each epoch has a training and validation phase\n",
    "        for phase in ['train', 'val']:\n",
    "            if phase == 'train':\n",
    "                model.train()  # Set model to training mode\n",
    "            else:\n",
    "                model.eval()   # Set model to evaluate mode\n",
    "\n",
    "            running_loss = 0.0\n",
    "            running_corrects = 0\n",
    "\n",
    "            # Iterate over data.\n",
    "            for inputs, labels in dataloaders[phase]:\n",
    "                inputs = inputs.to(DEVICE)\n",
    "                labels = labels.to(DEVICE)\n",
    "                labels = labels.view(labels.size()[0],-1) #add for BCE loss\n",
    "\n",
    "                # zero the parameter gradients\n",
    "                optimizer.zero_grad()\n",
    "\n",
    "                # forward\n",
    "                # track history if only in train\n",
    "                with torch.set_grad_enabled(phase == 'train'):\n",
    "                    outputs = model(inputs)\n",
    "                    if isinstance(outputs, tuple):\n",
    "                        outputs = outputs[0]\n",
    "                        score = torch.sigmoid(outputs)\n",
    "                    else:\n",
    "                        score = torch.sigmoid(outputs)\n",
    "                    preds = score>0.5\n",
    "                    preds = preds.type(torch.cuda.LongTensor)\n",
    "                \n",
    "                    labels = labels.type(torch.cuda.FloatTensor) #add for BCE loss\n",
    "                    loss = criterion(outputs, labels)\n",
    "                    \n",
    "                    # backward + optimize only if in training phase\n",
    "                    if phase == 'train':\n",
    "                        loss.backward()\n",
    "                        optimizer.step()\n",
    "\n",
    "                # statistics\n",
    "                running_loss += loss.item() * inputs.size(0)\n",
    "                running_corrects += torch.sum(preds == labels.data)\n",
    "\n",
    "            epoch_loss = running_loss / dataset_sizes[phase]\n",
    "            epoch_acc = running_corrects.double() / dataset_sizes[phase]\n",
    "            \n",
    "            if phase == 'train':\n",
    "                writer.add_scalars('Loss', {'Loss/train': epoch_loss},epoch)\n",
    "                writer.add_scalars('Accuracy',{'Accuracy/train':epoch_acc},epoch)\n",
    "\n",
    "            \n",
    "            elif phase == 'val':\n",
    "                writer.add_scalars('Loss', {'Loss/val': epoch_loss},epoch)\n",
    "                writer.add_scalars('Accuracy',{'Accuracy/val':epoch_acc},epoch)\n",
    "\n",
    "\n",
    "            print(f'{phase} Loss: {epoch_loss:.4f} Acc: {epoch_acc:.4f}')\n",
    "\n",
    "            # deep copy the model\n",
    "            if phase == 'val' and epoch_acc > best_acc:\n",
    "                best_acc = epoch_acc\n",
    "                best_model_wts = copy.deepcopy(model.state_dict())\n",
    "                torch.save(model, os.path.join('../../../Resources/Models/','normal_resnet18.pth'))\n",
    "                print('Model saved!')\n",
    "\n",
    "\n",
    "    time_elapsed = time.time() - since\n",
    "    print(f'Training complete in {time_elapsed // 60:.0f}m {time_elapsed % 60:.0f}s')\n",
    "    print(f'Best val Acc: {best_acc:4f}')\n",
    "\n",
    "    # load best model weights\n",
    "    writer.flush()"
   ]
  },
  {
   "cell_type": "code",
   "execution_count": 11,
   "id": "825365e8",
   "metadata": {
    "scrolled": true
   },
   "outputs": [
    {
     "name": "stdout",
     "output_type": "stream",
     "text": [
      "Epoch 0/24\n",
      "----------\n",
      "train Loss: 0.5429 Acc: 0.7239\n",
      "val Loss: 0.5217 Acc: 0.7389\n",
      "Model saved!\n",
      "Epoch 1/24\n",
      "----------\n",
      "train Loss: 0.5115 Acc: 0.7479\n",
      "val Loss: 0.5139 Acc: 0.7435\n",
      "Model saved!\n",
      "Epoch 2/24\n",
      "----------\n",
      "train Loss: 0.4992 Acc: 0.7565\n",
      "val Loss: 0.5171 Acc: 0.7416\n",
      "Epoch 3/24\n",
      "----------\n",
      "train Loss: 0.4870 Acc: 0.7634\n",
      "val Loss: 0.5103 Acc: 0.7514\n",
      "Model saved!\n",
      "Epoch 4/24\n",
      "----------\n",
      "train Loss: 0.4757 Acc: 0.7706\n",
      "val Loss: 0.5123 Acc: 0.7530\n",
      "Model saved!\n",
      "Epoch 5/24\n",
      "----------\n",
      "train Loss: 0.4647 Acc: 0.7778\n",
      "val Loss: 0.5245 Acc: 0.7401\n",
      "Epoch 6/24\n",
      "----------\n",
      "train Loss: 0.4533 Acc: 0.7837\n",
      "val Loss: 0.5824 Acc: 0.7081\n",
      "Epoch 7/24\n",
      "----------\n",
      "train Loss: 0.4414 Acc: 0.7897\n",
      "val Loss: 0.5330 Acc: 0.7338\n",
      "Epoch 8/24\n",
      "----------\n",
      "train Loss: 0.4232 Acc: 0.8015\n",
      "val Loss: 0.5501 Acc: 0.7388\n",
      "Epoch 9/24\n",
      "----------\n",
      "train Loss: 0.4102 Acc: 0.8105\n",
      "val Loss: 0.5526 Acc: 0.7411\n",
      "Epoch 10/24\n",
      "----------\n",
      "train Loss: 0.3946 Acc: 0.8182\n",
      "val Loss: 0.5630 Acc: 0.7423\n",
      "Epoch 11/24\n",
      "----------\n",
      "train Loss: 0.3751 Acc: 0.8293\n",
      "val Loss: 0.5602 Acc: 0.7335\n",
      "Epoch 12/24\n",
      "----------\n",
      "train Loss: 0.3582 Acc: 0.8396\n",
      "val Loss: 0.5716 Acc: 0.7376\n",
      "Epoch 13/24\n",
      "----------\n",
      "train Loss: 0.3367 Acc: 0.8507\n",
      "val Loss: 0.6041 Acc: 0.7342\n",
      "Epoch 14/24\n",
      "----------\n",
      "train Loss: 0.3180 Acc: 0.8599\n",
      "val Loss: 0.6507 Acc: 0.7347\n",
      "Epoch 15/24\n",
      "----------\n",
      "train Loss: 0.2979 Acc: 0.8712\n",
      "val Loss: 0.9862 Acc: 0.6446\n",
      "Epoch 16/24\n",
      "----------\n",
      "train Loss: 0.2801 Acc: 0.8802\n",
      "val Loss: 0.6837 Acc: 0.7299\n",
      "Epoch 17/24\n",
      "----------\n",
      "train Loss: 0.2602 Acc: 0.8888\n",
      "val Loss: 0.7349 Acc: 0.7266\n",
      "Epoch 18/24\n",
      "----------\n",
      "train Loss: 0.2427 Acc: 0.8962\n",
      "val Loss: 0.7133 Acc: 0.7285\n",
      "Epoch 19/24\n",
      "----------\n",
      "train Loss: 0.2260 Acc: 0.9052\n",
      "val Loss: 0.7638 Acc: 0.7285\n",
      "Epoch 20/24\n",
      "----------\n",
      "train Loss: 0.2168 Acc: 0.9091\n",
      "val Loss: 1.0372 Acc: 0.6364\n",
      "Epoch 21/24\n",
      "----------\n",
      "train Loss: 0.1958 Acc: 0.9201\n",
      "val Loss: 0.7992 Acc: 0.7183\n",
      "Epoch 22/24\n",
      "----------\n",
      "train Loss: 0.1841 Acc: 0.9235\n",
      "val Loss: 0.8404 Acc: 0.7225\n",
      "Epoch 23/24\n",
      "----------\n",
      "train Loss: 0.1773 Acc: 0.9264\n",
      "val Loss: 0.8768 Acc: 0.7180\n",
      "Epoch 24/24\n",
      "----------\n",
      "train Loss: 0.1580 Acc: 0.9367\n",
      "val Loss: 0.9222 Acc: 0.7215\n",
      "Training complete in 499m 28s\n",
      "Best val Acc: 0.752962\n"
     ]
    }
   ],
   "source": [
    "train_model(model, dataloaders, criterion, optim, num_epochs = 25)"
   ]
  },
  {
   "cell_type": "markdown",
   "id": "9ad0ed8a",
   "metadata": {},
   "source": [
    "# Evaluation metrics"
   ]
  },
  {
   "cell_type": "code",
   "execution_count": 9,
   "id": "17a7951d",
   "metadata": {},
   "outputs": [],
   "source": [
    "# Load model\n",
    "model= torch.load(os.path.join('../Resources/Models/','normal_resnet18.pth'))"
   ]
  },
  {
   "cell_type": "code",
   "execution_count": 19,
   "id": "883a2eaa",
   "metadata": {},
   "outputs": [],
   "source": [
    "model = torch.load(os.path.join('../evaluation_available_models/valencia_models_inference_evaluation/Resources/Models/','normal-resnet18-simplified.pth'))"
   ]
  },
  {
   "cell_type": "code",
   "execution_count": 20,
   "id": "ca57563b",
   "metadata": {},
   "outputs": [],
   "source": [
    "# Obtain y_true, y_pred and y_score\n",
    "\n",
    "# y_true: Ground truth (correct) target values.\n",
    "# y_pred: Estimated targets as returned by a classifier.\n",
    "# y_score: Probability estimates of the positive class\n",
    "\n",
    "model.eval()\n",
    "y_true = list()\n",
    "y_pred = list()\n",
    "y_score= list()\n",
    "\n",
    "with torch.no_grad():\n",
    "    for test_data in test_loader:\n",
    "        test_images, test_labels = (\n",
    "            test_data[0].to(DEVICE),\n",
    "            test_data[1].to(DEVICE),\n",
    "        )\n",
    "        prediction = model(test_images)\n",
    "        pred = prediction.argmax(dim=1)\n",
    "        score = torch.softmax(prediction, dim=1)[:, 0]\n",
    "        \n",
    "        for i in range(len(pred)):\n",
    "            y_true.append(test_labels[i].item())\n",
    "            y_pred.append(pred[i].item())\n",
    "            y_score.append(score[i].item())"
   ]
  },
  {
   "cell_type": "code",
   "execution_count": 10,
   "id": "dc4c271d",
   "metadata": {},
   "outputs": [],
   "source": [
    "model.eval()\n",
    "running_corrects = 0\n",
    "output_list = []\n",
    "label_list = []\n",
    "preds_list = []\n",
    "prob_list = []\n",
    "\n",
    "with torch.no_grad():\n",
    "        for data in test_loader:\n",
    "            inputs, labels = data\n",
    "\n",
    "            labels_auc = labels\n",
    "            labels_print = labels\n",
    "            labels_auc = labels_auc.type(torch.FloatTensor)\n",
    "            labels = labels.type(torch.LongTensor) #add for BCE loss\n",
    "\n",
    "            # wrap them in Variable\n",
    "            inputs = inputs.to(DEVICE)\n",
    "            labels = labels.to(DEVICE)\n",
    "            labels_auc = labels_auc.to(DEVICE)\n",
    "\n",
    "            labels = labels.view(labels.size()[0],-1) #add for BCE loss\n",
    "            labels_auc = labels_auc.view(labels_auc.size()[0],-1) #add for BCE loss\n",
    "            # forward\n",
    "            outputs = model(inputs)\n",
    "            # _, preds = torch.max(outputs.data, 1)\n",
    "            score = torch.sigmoid(outputs)\n",
    "            score_np = score.data.cpu().numpy()\n",
    "            preds = score>0.5\n",
    "            preds_np = preds.data.cpu().numpy()\n",
    "            preds = preds.type(torch.cuda.LongTensor)\n",
    "\n",
    "            labels_auc = labels_auc.data.cpu().numpy()\n",
    "            outputs = outputs.data.cpu().numpy()\n",
    "\n",
    "            for i in range(outputs.shape[0]):\n",
    "                output_list.append(outputs[i].tolist())\n",
    "                prob_list.append(score_np[i].tolist())\n",
    "                label_list.append(labels_auc[i].tolist())\n",
    "                preds_list.append(preds_np[i].tolist())\n",
    "\n",
    "            running_corrects += torch.sum(preds.data == labels.data) #add for BCE loss"
   ]
  },
  {
   "cell_type": "markdown",
   "id": "ff9444a7",
   "metadata": {},
   "source": [
    "### Statistics"
   ]
  },
  {
   "cell_type": "code",
   "execution_count": 11,
   "id": "ba0d35af",
   "metadata": {},
   "outputs": [
    {
     "name": "stdout",
     "output_type": "stream",
     "text": [
      "Test Accuracy: 0.7653  Test AUC: 0.8440  Test_AP: 0.8575\n",
      "TP: 2422  FP: 741  TN: 2287  FN: 703\n",
      "Sensitivity: 0.7750  Specificity: 0.7553\n",
      "Precision: 76.57%  Recall: 77.50%  F1: 0.7704\n",
      "PPV: 0.7657  NPV: 0.7649\n"
     ]
    }
   ],
   "source": [
    "# SHOW STATISTICS\n",
    "acc = np.float(running_corrects) / dataset_sizes['test']\n",
    "auc = metrics.roc_auc_score(np.array(label_list), np.array(output_list), average=None)\n",
    "\n",
    "fpr, tpr, threshold = metrics.roc_curve(np.array(label_list), np.array(output_list))\n",
    "roc_auc = metrics.auc(fpr, tpr)\n",
    "\n",
    "ap = metrics.average_precision_score(np.array(label_list), np.array(output_list))\n",
    "\n",
    "tn, fp, fn, tp = metrics.confusion_matrix(label_list, preds_list).ravel()\n",
    "\n",
    "recall = tp/(tp+fn)\n",
    "precision = tp/(tp+fp)\n",
    "f1 = 2*precision*recall/(precision+recall)\n",
    "sensitivity = recall\n",
    "specificity = tn/(tn+fp)\n",
    "PPV = tp/(tp+fp)\n",
    "NPV = tn/(tn+fn)\n",
    "\n",
    "print('Test Accuracy: {0:.4f}  Test AUC: {1:.4f}  Test_AP: {2:.4f}'.format(acc, auc, ap))\n",
    "print('TP: {0:}  FP: {1:}  TN: {2:}  FN: {3:}'.format(tp, fp, tn, fn))\n",
    "print('Sensitivity: {0:.4f}  Specificity: {1:.4f}'.format(sensitivity, specificity))\n",
    "print('Precision: {0:.2f}%  Recall: {1:.2f}%  F1: {2:.4f}'.format(precision*100, recall*100, f1))\n",
    "print('PPV: {0:.4f}  NPV: {1:.4f}'.format(PPV, NPV))"
   ]
  },
  {
   "cell_type": "markdown",
   "id": "e58ec062",
   "metadata": {},
   "source": [
    "### Classification report"
   ]
  },
  {
   "cell_type": "code",
   "execution_count": 12,
   "id": "922418d5",
   "metadata": {
    "scrolled": false
   },
   "outputs": [
    {
     "name": "stdout",
     "output_type": "stream",
     "text": [
      "              precision    recall  f1-score   support\n",
      "\n",
      "      normal     0.7649    0.7553    0.7601      3028\n",
      "    abnormal     0.7657    0.7750    0.7704      3125\n",
      "\n",
      "    accuracy                         0.7653      6153\n",
      "   macro avg     0.7653    0.7652    0.7652      6153\n",
      "weighted avg     0.7653    0.7653    0.7653      6153\n",
      "\n"
     ]
    }
   ],
   "source": [
    "from sklearn.metrics import classification_report\n",
    "class_names = [\"normal\",\"abnormal\"]\n",
    "print(classification_report(label_list, preds_list, target_names = class_names, digits = 4))"
   ]
  },
  {
   "cell_type": "markdown",
   "id": "01540460",
   "metadata": {},
   "source": [
    "### Confusion Matrix"
   ]
  },
  {
   "cell_type": "code",
   "execution_count": 12,
   "id": "36d8e848",
   "metadata": {},
   "outputs": [
    {
     "data": {
      "image/png": "[encoded data removed]",
      "text/plain": [
       "<Figure size 640x480 with 2 Axes>"
      ]
     },
     "metadata": {},
     "output_type": "display_data"
    }
   ],
   "source": [
    "import numpy as np\n",
    "import matplotlib.pyplot as plt\n",
    "import seaborn as sns\n",
    "\n",
    "# Compute the confusion matrix\n",
    "cmat = confusion_matrix(label_list, preds_list, normalize='true')\n",
    "\n",
    "# Round the values in the confusion matrix\n",
    "cmat_rounded = np.round(cmat, decimals=4)\n",
    "\n",
    "# Create visualization\n",
    "ax = sns.heatmap(cmat_rounded * 100, annot=True, cmap='Oranges', fmt='.2f')\n",
    "\n",
    "for t in ax.texts:\n",
    "    t.set_text(t.get_text() + \" %\")\n",
    "\n",
    "# Set the axis labels\n",
    "ax.set_xlabel('\\nPredicted Values')\n",
    "ax.set_ylabel('Actual Values')\n",
    "ax.xaxis.set_ticklabels(['normal', 'abnormal'])\n",
    "ax.yaxis.set_ticklabels(['normal', 'abnormal'])\n",
    "\n",
    "# Show the plot\n",
    "plt.show()\n"
   ]
  },
  {
   "cell_type": "code",
   "execution_count": 13,
   "id": "bab86981",
   "metadata": {},
   "outputs": [
    {
     "name": "stdout",
     "output_type": "stream",
     "text": [
      "True Negative(TN)=  2287\n",
      "False Positive(FP)= 741\n",
      "False Negative(FN)= 703\n",
      "True Positive(TP)=  2422\n"
     ]
    }
   ],
   "source": [
    "tn, fp, fn, tp  = confusion_matrix(label_list, preds_list).ravel()\n",
    "print('True Negative(TN)=  %s\\nFalse Positive(FP)= %s\\nFalse Negative(FN)= %s\\nTrue Positive(TP)=  %s' % (tn, fp, fn,tp))"
   ]
  },
  {
   "cell_type": "markdown",
   "id": "dfb82aae",
   "metadata": {},
   "source": [
    "### Plot ROC-Curve and calculate AUC"
   ]
  },
  {
   "cell_type": "code",
   "execution_count": 18,
   "id": "a5ff3206",
   "metadata": {},
   "outputs": [
    {
     "data": {
      "image/png": "[encoded data removed]",
      "text/plain": [
       "<Figure size 640x480 with 1 Axes>"
      ]
     },
     "metadata": {},
     "output_type": "display_data"
    }
   ],
   "source": [
    "fpr, tpr, threshold = metrics.roc_curve(np.array(label_list), np.array(output_list))\n",
    "#ROC CURVE\n",
    "plt.figure()\n",
    "plt.plot(fpr, tpr, lw=2, color='red', label='ResNet18 (AUC = %0.4f)' % roc_auc)\n",
    "plt.plot([0, 1], [0, 1], color='indianred', lw=2, linestyle='--')\n",
    "\n",
    "plt.xlabel('False Positive Rate')\n",
    "plt.ylabel('True Positive Rate')\n",
    "plt.title('ROC curve of abnormal/normal classification')\n",
    "plt.legend(loc=\"lower right\")\n",
    "plt.show()"
   ]
  },
  {
   "cell_type": "code",
   "execution_count": null,
   "id": "66675d85",
   "metadata": {},
   "outputs": [],
   "source": []
  }
 ],
 "metadata": {
  "kernelspec": {
   "display_name": "Python 3 (ipykernel)",
   "language": "python",
   "name": "python3"
  },
  "language_info": {
   "codemirror_mode": {
    "name": "ipython",
    "version": 3
   },
   "file_extension": ".py",
   "mimetype": "text/x-python",
   "name": "python",
   "nbconvert_exporter": "python",
   "pygments_lexer": "ipython3",
   "version": "3.8.12"
  }
 },
 "nbformat": 4,
 "nbformat_minor": 5
}
