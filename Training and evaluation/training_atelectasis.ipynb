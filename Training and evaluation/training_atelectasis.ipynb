{
 "cells": [
  {
   "cell_type": "markdown",
   "id": "ee0f7517",
   "metadata": {},
   "source": [
    "# Training Script to classify Chest XRay images into: atelectasis/ not atelectasis"
   ]
  },
  {
   "cell_type": "markdown",
   "id": "260ab076",
   "metadata": {},
   "source": [
    "### Model: \n",
    "Resnet18 pretrained in Imagenet, 3 Channels as inputs, 1 output"
   ]
  },
  {
   "cell_type": "markdown",
   "id": "51b24106",
   "metadata": {},
   "source": [
    "##  Import libraries"
   ]
  },
  {
   "cell_type": "code",
   "execution_count": 1,
   "id": "4dbb23ff",
   "metadata": {},
   "outputs": [
    {
     "name": "stdout",
     "output_type": "stream",
     "text": [
      "Device: cuda\n"
     ]
    }
   ],
   "source": [
    "import pandas as pd\n",
    "from skimage.io import imread\n",
    "from matplotlib import pyplot as plt\n",
    "import time\n",
    "import os\n",
    "import copy\n",
    "import cv2 \n",
    "import numpy as np\n",
    "from PIL import Image\n",
    "\n",
    "# AI framework\n",
    "import torch\n",
    "from torch.utils.data import Dataset, DataLoader\n",
    "from torchvision import models, transforms\n",
    "import torch.nn as nn\n",
    "import torchxrayvision as xrv\n",
    "\n",
    "# Visualize the evolution of the model during training\n",
    "from torch.utils.tensorboard import SummaryWriter\n",
    "writer = SummaryWriter()\n",
    "\n",
    "# Statistical analysis on the test dataset:\n",
    "import sklearn\n",
    "from sklearn import metrics\n",
    "from sklearn.metrics import confusion_matrix\n",
    "import seaborn as sns\n",
    "from sklearn.metrics import roc_auc_score, auc\n",
    "from sklearn.metrics import roc_curve\n",
    "\n",
    "# Device\n",
    "DEVICE = torch.device(\"cuda\" if torch.cuda.is_available() else \"cpu\")\n",
    "print(f'Device: {DEVICE}')"
   ]
  },
  {
   "cell_type": "markdown",
   "id": "17f084b5",
   "metadata": {},
   "source": [
    "## 1. Import data and pre-processing"
   ]
  },
  {
   "cell_type": "markdown",
   "id": "a2e3229e",
   "metadata": {},
   "source": [
    "## 1.1 Create a class to manage the dataset"
   ]
  },
  {
   "cell_type": "code",
   "execution_count": 2,
   "id": "feb68858",
   "metadata": {},
   "outputs": [],
   "source": [
    "# Define a personalized class for the dataset\n",
    "class PadChestDataset(Dataset):\n",
    "    \n",
    "    def __init__(self, img_dir, csv_file, avail_imgID, transform = None):\n",
    "        self.labels = pd.read_csv(csv_file, low_memory = False)\n",
    "        \n",
    "        # Replace missing values in \"Labels\" column with an empty string\n",
    "        self.labels['Labels'].fillna('', inplace = True)\n",
    "        \n",
    "        # Filter by available image files\n",
    "        self.labels = self.labels[self.labels[\"ImageID\"].isin(avail_imgID)]\n",
    "       \n",
    "        # Create a dictionary to create binary labels: \"normal\": 1 and \"others\":0\n",
    "        self.label_dict= {\"not_atelectasis\": 0, \"atelectasis\": 1}\n",
    "        \n",
    "        # Initializes instance variables img_dir and transform\n",
    "        self.img_dir = img_dir\n",
    "        self.transform = transform\n",
    "        \n",
    "    def normalize(self,image, rangeValues = (0, 1), dtype = np.float32):\n",
    "        \"\"\"\n",
    "        Scales intensity values in the image to be within a specific range.\n",
    "\n",
    "        :param image: input array\n",
    "        :param rangeValue: minimum and maximum values defining the desired output range\n",
    "        :param dtype: type of data for intensity value\n",
    "\n",
    "        :return normalized image\n",
    "        \"\"\"\n",
    "        image = np.array(image)\n",
    "        image_norm = (image - np.min(image))/(np.max(image) - np.min(image)) # scale between zero and one\n",
    "        image_norm = image_norm * (rangeValues[1] - rangeValues[0]) + rangeValues[0]\n",
    "        return image_norm.astype(dtype)\n",
    "\n",
    "\n",
    "    def equalize(self, image):    \n",
    "        clahe = cv2.createCLAHE(clipLimit=40.0, tileGridSize=(8,8))\n",
    "        clahe_img = clahe.apply(image)\n",
    "\n",
    "        kernel = cv2.getStructuringElement(cv2.MORPH_RECT, (15, 15)) # MORPH_ELLIPSE\n",
    "        eq_img = cv2.equalizeHist(image)\n",
    "        tophat = cv2.morphologyEx(eq_img, cv2.MORPH_TOPHAT, kernel)\n",
    "        bothat = cv2.morphologyEx(eq_img, cv2.MORPH_BLACKHAT, kernel)\n",
    "        hat_img = eq_img + tophat - bothat\n",
    "\n",
    "        return np.dstack((image, clahe_img, hat_img))\n",
    "        \n",
    "\n",
    "    def __len__(self):\n",
    "        return len(self.labels)\n",
    "\n",
    "    def __getitem__(self, idx):\n",
    "        \n",
    "        # Get labels: Map the csv labels to binary tags: 0 for normal or 1 for others\n",
    "        csv_labels_name = self.labels['Labels'].iloc[idx]\n",
    "        \n",
    "        if 'atelectasis'  in csv_labels_name:\n",
    "            labels = self.label_dict[\"atelectasis\"]\n",
    "        else:\n",
    "            labels = self.label_dict[\"not_atelectasis\"]\n",
    "            \n",
    "        # Get image paths\n",
    "        imgid = self.labels['ImageID'].iloc[idx]\n",
    "        img_path = os.path.join(self.img_dir, imgid)\n",
    "     \n",
    "        # Step 1: Load the image\n",
    "        image_original = cv2.imread(img_path, cv2.IMREAD_UNCHANGED) \n",
    "        image_norm= self.normalize(image = image_original, rangeValues = (0, 255), dtype = np.uint8)\n",
    "\n",
    "        # Step 2: Equalize\n",
    "        image_eq = self.equalize(image_norm)\n",
    "        img_trans = image_eq[...,::-1] # Invert the order of the channels\n",
    "\n",
    "        # Step 3: Resize and transform to tensor   \n",
    "        if self.transform:\n",
    "            img_trans = self.transform(Image.fromarray(img_trans)).to(DEVICE)\n",
    "            \n",
    "        return img_trans, labels"
   ]
  },
  {
   "cell_type": "markdown",
   "id": "0692bd7e",
   "metadata": {},
   "source": [
    "## 1.2 Define the datasets and dataloaders"
   ]
  },
  {
   "cell_type": "markdown",
   "id": "6a685b49",
   "metadata": {},
   "source": [
    "### Paths"
   ]
  },
  {
   "cell_type": "code",
   "execution_count": 3,
   "id": "b71f3950",
   "metadata": {},
   "outputs": [],
   "source": [
    "# Define the paths\n",
    "# Image paths\n",
    "datapath = \"/home/marialuque/datos_maria/Data/PadChest512_PA_Manually_Filtered\"\n",
    "\n",
    "# Labels path\n",
    "csv_file = \"/home/marialuque/datos_maria/Data/PADCHEST_chest_x_ray_images_labels_160K_01.02.19.csv\""
   ]
  },
  {
   "cell_type": "markdown",
   "id": "199d842b",
   "metadata": {},
   "source": [
    "### Filter the images"
   ]
  },
  {
   "cell_type": "code",
   "execution_count": 4,
   "id": "ab31f2a9",
   "metadata": {},
   "outputs": [],
   "source": [
    "# Train available image IDs\n",
    "splitted_imageIDs_txtFiles = \"split_individual_models_dataset/new_atelectasis_IDs\"\n",
    "\n",
    "train_imageIDs_available = os.path.join(splitted_imageIDs_txtFiles, \"train_imageIDs.txt\")\n",
    "with open(train_imageIDs_available, \"r\") as f:\n",
    "    train_avail_imgID = [line.strip() for line in f.readlines()]\n",
    "    \n",
    "# Valid available image IDs\n",
    "valid_imageIDs_available = os.path.join(splitted_imageIDs_txtFiles, \"valid_imageIDs.txt\")\n",
    "with open(valid_imageIDs_available, \"r\") as f:\n",
    "    valid_avail_imgID = [line.strip() for line in f.readlines()]\n",
    "    \n",
    "# Test available image IDs\n",
    "test_imageIDs_available = os.path.join(splitted_imageIDs_txtFiles, \"test_imageIDs.txt\")\n",
    "with open(test_imageIDs_available, \"r\") as f:\n",
    "    test_avail_imgID = [line.strip() for line in f.readlines()]"
   ]
  },
  {
   "cell_type": "markdown",
   "id": "e3c97df8",
   "metadata": {},
   "source": [
    "### Define the transforms"
   ]
  },
  {
   "cell_type": "code",
   "execution_count": 5,
   "id": "2ac1d483",
   "metadata": {},
   "outputs": [],
   "source": [
    "# Define the transforms\n",
    "train_transform = transforms.Compose([\n",
    "                            transforms.Resize((512,512)),\n",
    "                            transforms.RandomRotation((-5, 5)),\n",
    "                            transforms.RandomAffine(0, translate=(10/64, 10/64)),\n",
    "                            transforms.ToTensor()\n",
    "                            ])\n",
    "\n",
    "valid_transform = transforms.Compose([\n",
    "                            transforms.Resize((512,512)),\n",
    "                            transforms.ToTensor()\n",
    "                            ])\n",
    "\n",
    "# Define the datasets and dataloaders\n",
    "batch_size = 32\n",
    "\n",
    "# Train\n",
    "train_dataset = PadChestDataset(datapath, csv_file, train_avail_imgID, train_transform)\n",
    "train_loader = DataLoader(train_dataset, batch_size = batch_size, shuffle = True)\n",
    "\n",
    "# Valid\n",
    "valid_dataset = PadChestDataset(datapath, csv_file, valid_avail_imgID, valid_transform)\n",
    "valid_loader = DataLoader(valid_dataset, batch_size = batch_size, shuffle = True)\n",
    "\n",
    "#Test\n",
    "test_dataset = PadChestDataset(datapath, csv_file, test_avail_imgID, valid_transform)\n",
    "test_loader = DataLoader(test_dataset, batch_size = batch_size, shuffle = True)\n",
    "\n",
    "# Datasets and Dataloader\n",
    "datasets = {'train': train_dataset,'val': valid_dataset, 'test': test_dataset}\n",
    "dataloaders = {'train': train_loader,'val': valid_loader,'test': test_loader}"
   ]
  },
  {
   "cell_type": "code",
   "execution_count": 15,
   "id": "856c2b32",
   "metadata": {},
   "outputs": [
    {
     "name": "stdout",
     "output_type": "stream",
     "text": [
      "Train dataset size: 6219\n",
      "Valid dataset size: 691\n",
      "Test dataset size: 768\n"
     ]
    }
   ],
   "source": [
    "dataset_sizes = {x: len(datasets[x]) for x in ['train', 'val', 'test']}\n",
    "print(\"Train dataset size:\",dataset_sizes['train'])\n",
    "print(\"Valid dataset size:\",dataset_sizes['val'])\n",
    "print(\"Test dataset size:\",dataset_sizes['test'])"
   ]
  },
  {
   "cell_type": "markdown",
   "id": "05bcccbc",
   "metadata": {},
   "source": [
    "## 2. Define the model, criterion and optimizer </h1>"
   ]
  },
  {
   "cell_type": "markdown",
   "id": "5d3cf00b",
   "metadata": {},
   "source": [
    "### Resnet-18 TL"
   ]
  },
  {
   "cell_type": "code",
   "execution_count": 40,
   "id": "2901ff82",
   "metadata": {},
   "outputs": [],
   "source": [
    "# Load the model pretrained in Covid-19 Dataset\n",
    "model = models.resnet50(pretrained = True)\n",
    "    \n",
    "# Replace the FC layer with a classifier that has 1 class\n",
    "num_ftrs = model.fc.in_features\n",
    "model.fc = nn.Linear(num_ftrs, 1)\n",
    "model = model.to(DEVICE)"
   ]
  },
  {
   "cell_type": "code",
   "execution_count": 41,
   "id": "d2e9246a",
   "metadata": {},
   "outputs": [],
   "source": [
    "criterion = nn.BCEWithLogitsLoss()\n",
    "optim = torch.optim.Adam(model.parameters(), lr = 0.0001, weight_decay = 1e-4, amsgrad = True)"
   ]
  },
  {
   "cell_type": "markdown",
   "id": "b682e243",
   "metadata": {},
   "source": [
    "## 3. Train the model"
   ]
  },
  {
   "cell_type": "code",
   "execution_count": 42,
   "id": "a4dda0a6",
   "metadata": {},
   "outputs": [],
   "source": [
    "def train_model(model, dataloaders, criterion, optimizer, num_epochs=20):\n",
    "    since = time.time()\n",
    "\n",
    "    best_model_wts = copy.deepcopy(model.state_dict())\n",
    "    best_acc = 0.0\n",
    "\n",
    "    for epoch in range(num_epochs):\n",
    "        print(f'Epoch {epoch}/{num_epochs - 1}')\n",
    "        print('-' * 10)\n",
    "\n",
    "        # Each epoch has a training and validation phase\n",
    "        for phase in ['train', 'val']:\n",
    "            if phase == 'train':\n",
    "                model.train()  # Set model to training mode\n",
    "            else:\n",
    "                model.eval()   # Set model to evaluate mode\n",
    "\n",
    "            running_loss = 0.0\n",
    "            running_corrects = 0\n",
    "\n",
    "            # Iterate over data.\n",
    "            for inputs, labels in dataloaders[phase]:\n",
    "                inputs = inputs.to(DEVICE)\n",
    "                labels = labels.to(DEVICE)\n",
    "                labels = labels.view(labels.size()[0],-1) #add for BCE loss\n",
    "\n",
    "                # zero the parameter gradients\n",
    "                optimizer.zero_grad()\n",
    "\n",
    "                # forward\n",
    "                # track history if only in train\n",
    "                with torch.set_grad_enabled(phase == 'train'):\n",
    "                    outputs = model(inputs)\n",
    "                    if isinstance(outputs, tuple):\n",
    "                        outputs = outputs[0]\n",
    "                        score = torch.sigmoid(outputs)\n",
    "                    else:\n",
    "                        score = torch.sigmoid(outputs)\n",
    "                    preds = score>0.5\n",
    "                    preds = preds.type(torch.cuda.LongTensor)\n",
    "                \n",
    "                    labels = labels.type(torch.cuda.FloatTensor) #add for BCE loss\n",
    "                    loss = criterion(outputs, labels)\n",
    "                    \n",
    "                    # backward + optimize only if in training phase\n",
    "                    if phase == 'train':\n",
    "                        loss.backward()\n",
    "                        optimizer.step()\n",
    "\n",
    "                # statistics\n",
    "                running_loss += loss.item() * inputs.size(0)\n",
    "                running_corrects += torch.sum(preds == labels.data)\n",
    "\n",
    "            epoch_loss = running_loss / dataset_sizes[phase]\n",
    "            epoch_acc = running_corrects.double() / dataset_sizes[phase]\n",
    "            \n",
    "            if phase == 'train':\n",
    "                writer.add_scalars('Loss', {'Loss/train': epoch_loss},epoch)\n",
    "                writer.add_scalars('Accuracy',{'Accuracy/train':epoch_acc},epoch)\n",
    "\n",
    "            \n",
    "            elif phase == 'val':\n",
    "                writer.add_scalars('Loss', {'Loss/val': epoch_loss},epoch)\n",
    "                writer.add_scalars('Accuracy',{'Accuracy/val':epoch_acc},epoch)\n",
    "\n",
    "\n",
    "            print(f'{phase} Loss: {epoch_loss:.4f} Acc: {epoch_acc:.4f}')\n",
    "\n",
    "            # deep copy the model\n",
    "            if phase == 'val' and epoch_acc > best_acc:\n",
    "                best_acc = epoch_acc\n",
    "                best_model_wts = copy.deepcopy(model.state_dict())\n",
    "                torch.save(model, os.path.join('resnet50_atelectasis.pth'))\n",
    "                print('Model saved!')\n",
    "\n",
    "                \n",
    "\n",
    "    time_elapsed = time.time() - since\n",
    "    print(f'Training complete in {time_elapsed // 60:.0f}m {time_elapsed % 60:.0f}s')\n",
    "    print(f'Best val Acc: {best_acc:4f}')\n",
    "\n",
    "    # load best model weights\n",
    "    writer.flush()"
   ]
  },
  {
   "cell_type": "code",
   "execution_count": 43,
   "id": "825365e8",
   "metadata": {
    "scrolled": true
   },
   "outputs": [
    {
     "name": "stdout",
     "output_type": "stream",
     "text": [
      "Epoch 0/24\n",
      "----------\n",
      "train Loss: 0.5955 Acc: 0.6829\n",
      "val Loss: 0.5363 Acc: 0.7279\n",
      "Model saved!\n",
      "Epoch 1/24\n",
      "----------\n",
      "train Loss: 0.5151 Acc: 0.7543\n",
      "val Loss: 0.5279 Acc: 0.7453\n",
      "Model saved!\n",
      "Epoch 2/24\n",
      "----------\n",
      "train Loss: 0.4702 Acc: 0.7816\n",
      "val Loss: 0.5210 Acc: 0.7554\n",
      "Model saved!\n",
      "Epoch 3/24\n",
      "----------\n",
      "train Loss: 0.4282 Acc: 0.8050\n",
      "val Loss: 0.5452 Acc: 0.7569\n",
      "Model saved!\n",
      "Epoch 4/24\n",
      "----------\n",
      "train Loss: 0.3875 Acc: 0.8307\n",
      "val Loss: 0.5459 Acc: 0.7482\n",
      "Epoch 5/24\n",
      "----------\n",
      "train Loss: 0.3454 Acc: 0.8495\n",
      "val Loss: 0.5923 Acc: 0.7482\n",
      "Epoch 6/24\n",
      "----------\n",
      "train Loss: 0.2977 Acc: 0.8725\n",
      "val Loss: 0.6263 Acc: 0.7366\n",
      "Epoch 7/24\n",
      "----------\n",
      "train Loss: 0.2525 Acc: 0.8968\n",
      "val Loss: 0.6945 Acc: 0.7337\n",
      "Epoch 8/24\n",
      "----------\n",
      "train Loss: 0.2082 Acc: 0.9180\n",
      "val Loss: 0.8161 Acc: 0.7279\n",
      "Epoch 9/24\n",
      "----------\n",
      "train Loss: 0.1614 Acc: 0.9362\n",
      "val Loss: 0.7767 Acc: 0.7554\n",
      "Epoch 10/24\n",
      "----------\n",
      "train Loss: 0.1459 Acc: 0.9424\n",
      "val Loss: 0.7890 Acc: 0.7352\n",
      "Epoch 11/24\n",
      "----------\n",
      "train Loss: 0.1140 Acc: 0.9584\n",
      "val Loss: 0.8603 Acc: 0.7279\n",
      "Epoch 12/24\n",
      "----------\n",
      "train Loss: 0.0955 Acc: 0.9640\n",
      "val Loss: 0.9951 Acc: 0.7250\n",
      "Epoch 13/24\n",
      "----------\n",
      "train Loss: 0.0817 Acc: 0.9686\n",
      "val Loss: 1.0214 Acc: 0.7685\n",
      "Model saved!\n",
      "Epoch 14/24\n",
      "----------\n",
      "train Loss: 0.0892 Acc: 0.9661\n",
      "val Loss: 1.0024 Acc: 0.7236\n",
      "Epoch 15/24\n",
      "----------\n",
      "train Loss: 0.0897 Acc: 0.9654\n",
      "val Loss: 0.9848 Acc: 0.7540\n",
      "Epoch 16/24\n",
      "----------\n",
      "train Loss: 0.0794 Acc: 0.9727\n",
      "val Loss: 0.9300 Acc: 0.7352\n",
      "Epoch 17/24\n",
      "----------\n",
      "train Loss: 0.0579 Acc: 0.9802\n",
      "val Loss: 0.9254 Acc: 0.7410\n",
      "Epoch 18/24\n",
      "----------\n",
      "train Loss: 0.0428 Acc: 0.9850\n",
      "val Loss: 0.9899 Acc: 0.7656\n",
      "Epoch 19/24\n",
      "----------\n",
      "train Loss: 0.0367 Acc: 0.9883\n",
      "val Loss: 1.0501 Acc: 0.7424\n",
      "Epoch 20/24\n",
      "----------\n",
      "train Loss: 0.0549 Acc: 0.9788\n",
      "val Loss: 1.0519 Acc: 0.7540\n",
      "Epoch 21/24\n",
      "----------\n",
      "train Loss: 0.0552 Acc: 0.9794\n",
      "val Loss: 1.1996 Acc: 0.7410\n",
      "Epoch 22/24\n",
      "----------\n",
      "train Loss: 0.0569 Acc: 0.9802\n",
      "val Loss: 1.0150 Acc: 0.7482\n",
      "Epoch 23/24\n",
      "----------\n",
      "train Loss: 0.0615 Acc: 0.9791\n",
      "val Loss: 1.1731 Acc: 0.7742\n",
      "Model saved!\n",
      "Epoch 24/24\n",
      "----------\n",
      "train Loss: 0.0449 Acc: 0.9846\n",
      "val Loss: 1.2390 Acc: 0.7598\n",
      "Training complete in 76m 35s\n",
      "Best val Acc: 0.774240\n"
     ]
    }
   ],
   "source": [
    "train_model(model, dataloaders, criterion, optim, num_epochs = 25)"
   ]
  },
  {
   "cell_type": "markdown",
   "id": "9ad0ed8a",
   "metadata": {},
   "source": [
    "# Evaluation metrics"
   ]
  },
  {
   "cell_type": "code",
   "execution_count": 7,
   "id": "17a7951d",
   "metadata": {
    "scrolled": true
   },
   "outputs": [
    {
     "data": {
      "text/plain": [
       "ResNet(\n",
       "  (conv1): Conv2d(3, 64, kernel_size=(7, 7), stride=(2, 2), padding=(3, 3), bias=False)\n",
       "  (bn1): BatchNorm2d(64, eps=1e-05, momentum=0.1, affine=True, track_running_stats=True)\n",
       "  (relu): ReLU(inplace=True)\n",
       "  (maxpool): MaxPool2d(kernel_size=3, stride=2, padding=1, dilation=1, ceil_mode=False)\n",
       "  (layer1): Sequential(\n",
       "    (0): Bottleneck(\n",
       "      (conv1): Conv2d(64, 64, kernel_size=(1, 1), stride=(1, 1), bias=False)\n",
       "      (bn1): BatchNorm2d(64, eps=1e-05, momentum=0.1, affine=True, track_running_stats=True)\n",
       "      (conv2): Conv2d(64, 64, kernel_size=(3, 3), stride=(1, 1), padding=(1, 1), bias=False)\n",
       "      (bn2): BatchNorm2d(64, eps=1e-05, momentum=0.1, affine=True, track_running_stats=True)\n",
       "      (conv3): Conv2d(64, 256, kernel_size=(1, 1), stride=(1, 1), bias=False)\n",
       "      (bn3): BatchNorm2d(256, eps=1e-05, momentum=0.1, affine=True, track_running_stats=True)\n",
       "      (relu): ReLU(inplace=True)\n",
       "      (downsample): Sequential(\n",
       "        (0): Conv2d(64, 256, kernel_size=(1, 1), stride=(1, 1), bias=False)\n",
       "        (1): BatchNorm2d(256, eps=1e-05, momentum=0.1, affine=True, track_running_stats=True)\n",
       "      )\n",
       "    )\n",
       "    (1): Bottleneck(\n",
       "      (conv1): Conv2d(256, 64, kernel_size=(1, 1), stride=(1, 1), bias=False)\n",
       "      (bn1): BatchNorm2d(64, eps=1e-05, momentum=0.1, affine=True, track_running_stats=True)\n",
       "      (conv2): Conv2d(64, 64, kernel_size=(3, 3), stride=(1, 1), padding=(1, 1), bias=False)\n",
       "      (bn2): BatchNorm2d(64, eps=1e-05, momentum=0.1, affine=True, track_running_stats=True)\n",
       "      (conv3): Conv2d(64, 256, kernel_size=(1, 1), stride=(1, 1), bias=False)\n",
       "      (bn3): BatchNorm2d(256, eps=1e-05, momentum=0.1, affine=True, track_running_stats=True)\n",
       "      (relu): ReLU(inplace=True)\n",
       "    )\n",
       "    (2): Bottleneck(\n",
       "      (conv1): Conv2d(256, 64, kernel_size=(1, 1), stride=(1, 1), bias=False)\n",
       "      (bn1): BatchNorm2d(64, eps=1e-05, momentum=0.1, affine=True, track_running_stats=True)\n",
       "      (conv2): Conv2d(64, 64, kernel_size=(3, 3), stride=(1, 1), padding=(1, 1), bias=False)\n",
       "      (bn2): BatchNorm2d(64, eps=1e-05, momentum=0.1, affine=True, track_running_stats=True)\n",
       "      (conv3): Conv2d(64, 256, kernel_size=(1, 1), stride=(1, 1), bias=False)\n",
       "      (bn3): BatchNorm2d(256, eps=1e-05, momentum=0.1, affine=True, track_running_stats=True)\n",
       "      (relu): ReLU(inplace=True)\n",
       "    )\n",
       "  )\n",
       "  (layer2): Sequential(\n",
       "    (0): Bottleneck(\n",
       "      (conv1): Conv2d(256, 128, kernel_size=(1, 1), stride=(1, 1), bias=False)\n",
       "      (bn1): BatchNorm2d(128, eps=1e-05, momentum=0.1, affine=True, track_running_stats=True)\n",
       "      (conv2): Conv2d(128, 128, kernel_size=(3, 3), stride=(2, 2), padding=(1, 1), bias=False)\n",
       "      (bn2): BatchNorm2d(128, eps=1e-05, momentum=0.1, affine=True, track_running_stats=True)\n",
       "      (conv3): Conv2d(128, 512, kernel_size=(1, 1), stride=(1, 1), bias=False)\n",
       "      (bn3): BatchNorm2d(512, eps=1e-05, momentum=0.1, affine=True, track_running_stats=True)\n",
       "      (relu): ReLU(inplace=True)\n",
       "      (downsample): Sequential(\n",
       "        (0): Conv2d(256, 512, kernel_size=(1, 1), stride=(2, 2), bias=False)\n",
       "        (1): BatchNorm2d(512, eps=1e-05, momentum=0.1, affine=True, track_running_stats=True)\n",
       "      )\n",
       "    )\n",
       "    (1): Bottleneck(\n",
       "      (conv1): Conv2d(512, 128, kernel_size=(1, 1), stride=(1, 1), bias=False)\n",
       "      (bn1): BatchNorm2d(128, eps=1e-05, momentum=0.1, affine=True, track_running_stats=True)\n",
       "      (conv2): Conv2d(128, 128, kernel_size=(3, 3), stride=(1, 1), padding=(1, 1), bias=False)\n",
       "      (bn2): BatchNorm2d(128, eps=1e-05, momentum=0.1, affine=True, track_running_stats=True)\n",
       "      (conv3): Conv2d(128, 512, kernel_size=(1, 1), stride=(1, 1), bias=False)\n",
       "      (bn3): BatchNorm2d(512, eps=1e-05, momentum=0.1, affine=True, track_running_stats=True)\n",
       "      (relu): ReLU(inplace=True)\n",
       "    )\n",
       "    (2): Bottleneck(\n",
       "      (conv1): Conv2d(512, 128, kernel_size=(1, 1), stride=(1, 1), bias=False)\n",
       "      (bn1): BatchNorm2d(128, eps=1e-05, momentum=0.1, affine=True, track_running_stats=True)\n",
       "      (conv2): Conv2d(128, 128, kernel_size=(3, 3), stride=(1, 1), padding=(1, 1), bias=False)\n",
       "      (bn2): BatchNorm2d(128, eps=1e-05, momentum=0.1, affine=True, track_running_stats=True)\n",
       "      (conv3): Conv2d(128, 512, kernel_size=(1, 1), stride=(1, 1), bias=False)\n",
       "      (bn3): BatchNorm2d(512, eps=1e-05, momentum=0.1, affine=True, track_running_stats=True)\n",
       "      (relu): ReLU(inplace=True)\n",
       "    )\n",
       "    (3): Bottleneck(\n",
       "      (conv1): Conv2d(512, 128, kernel_size=(1, 1), stride=(1, 1), bias=False)\n",
       "      (bn1): BatchNorm2d(128, eps=1e-05, momentum=0.1, affine=True, track_running_stats=True)\n",
       "      (conv2): Conv2d(128, 128, kernel_size=(3, 3), stride=(1, 1), padding=(1, 1), bias=False)\n",
       "      (bn2): BatchNorm2d(128, eps=1e-05, momentum=0.1, affine=True, track_running_stats=True)\n",
       "      (conv3): Conv2d(128, 512, kernel_size=(1, 1), stride=(1, 1), bias=False)\n",
       "      (bn3): BatchNorm2d(512, eps=1e-05, momentum=0.1, affine=True, track_running_stats=True)\n",
       "      (relu): ReLU(inplace=True)\n",
       "    )\n",
       "  )\n",
       "  (layer3): Sequential(\n",
       "    (0): Bottleneck(\n",
       "      (conv1): Conv2d(512, 256, kernel_size=(1, 1), stride=(1, 1), bias=False)\n",
       "      (bn1): BatchNorm2d(256, eps=1e-05, momentum=0.1, affine=True, track_running_stats=True)\n",
       "      (conv2): Conv2d(256, 256, kernel_size=(3, 3), stride=(2, 2), padding=(1, 1), bias=False)\n",
       "      (bn2): BatchNorm2d(256, eps=1e-05, momentum=0.1, affine=True, track_running_stats=True)\n",
       "      (conv3): Conv2d(256, 1024, kernel_size=(1, 1), stride=(1, 1), bias=False)\n",
       "      (bn3): BatchNorm2d(1024, eps=1e-05, momentum=0.1, affine=True, track_running_stats=True)\n",
       "      (relu): ReLU(inplace=True)\n",
       "      (downsample): Sequential(\n",
       "        (0): Conv2d(512, 1024, kernel_size=(1, 1), stride=(2, 2), bias=False)\n",
       "        (1): BatchNorm2d(1024, eps=1e-05, momentum=0.1, affine=True, track_running_stats=True)\n",
       "      )\n",
       "    )\n",
       "    (1): Bottleneck(\n",
       "      (conv1): Conv2d(1024, 256, kernel_size=(1, 1), stride=(1, 1), bias=False)\n",
       "      (bn1): BatchNorm2d(256, eps=1e-05, momentum=0.1, affine=True, track_running_stats=True)\n",
       "      (conv2): Conv2d(256, 256, kernel_size=(3, 3), stride=(1, 1), padding=(1, 1), bias=False)\n",
       "      (bn2): BatchNorm2d(256, eps=1e-05, momentum=0.1, affine=True, track_running_stats=True)\n",
       "      (conv3): Conv2d(256, 1024, kernel_size=(1, 1), stride=(1, 1), bias=False)\n",
       "      (bn3): BatchNorm2d(1024, eps=1e-05, momentum=0.1, affine=True, track_running_stats=True)\n",
       "      (relu): ReLU(inplace=True)\n",
       "    )\n",
       "    (2): Bottleneck(\n",
       "      (conv1): Conv2d(1024, 256, kernel_size=(1, 1), stride=(1, 1), bias=False)\n",
       "      (bn1): BatchNorm2d(256, eps=1e-05, momentum=0.1, affine=True, track_running_stats=True)\n",
       "      (conv2): Conv2d(256, 256, kernel_size=(3, 3), stride=(1, 1), padding=(1, 1), bias=False)\n",
       "      (bn2): BatchNorm2d(256, eps=1e-05, momentum=0.1, affine=True, track_running_stats=True)\n",
       "      (conv3): Conv2d(256, 1024, kernel_size=(1, 1), stride=(1, 1), bias=False)\n",
       "      (bn3): BatchNorm2d(1024, eps=1e-05, momentum=0.1, affine=True, track_running_stats=True)\n",
       "      (relu): ReLU(inplace=True)\n",
       "    )\n",
       "    (3): Bottleneck(\n",
       "      (conv1): Conv2d(1024, 256, kernel_size=(1, 1), stride=(1, 1), bias=False)\n",
       "      (bn1): BatchNorm2d(256, eps=1e-05, momentum=0.1, affine=True, track_running_stats=True)\n",
       "      (conv2): Conv2d(256, 256, kernel_size=(3, 3), stride=(1, 1), padding=(1, 1), bias=False)\n",
       "      (bn2): BatchNorm2d(256, eps=1e-05, momentum=0.1, affine=True, track_running_stats=True)\n",
       "      (conv3): Conv2d(256, 1024, kernel_size=(1, 1), stride=(1, 1), bias=False)\n",
       "      (bn3): BatchNorm2d(1024, eps=1e-05, momentum=0.1, affine=True, track_running_stats=True)\n",
       "      (relu): ReLU(inplace=True)\n",
       "    )\n",
       "    (4): Bottleneck(\n",
       "      (conv1): Conv2d(1024, 256, kernel_size=(1, 1), stride=(1, 1), bias=False)\n",
       "      (bn1): BatchNorm2d(256, eps=1e-05, momentum=0.1, affine=True, track_running_stats=True)\n",
       "      (conv2): Conv2d(256, 256, kernel_size=(3, 3), stride=(1, 1), padding=(1, 1), bias=False)\n",
       "      (bn2): BatchNorm2d(256, eps=1e-05, momentum=0.1, affine=True, track_running_stats=True)\n",
       "      (conv3): Conv2d(256, 1024, kernel_size=(1, 1), stride=(1, 1), bias=False)\n",
       "      (bn3): BatchNorm2d(1024, eps=1e-05, momentum=0.1, affine=True, track_running_stats=True)\n",
       "      (relu): ReLU(inplace=True)\n",
       "    )\n",
       "    (5): Bottleneck(\n",
       "      (conv1): Conv2d(1024, 256, kernel_size=(1, 1), stride=(1, 1), bias=False)\n",
       "      (bn1): BatchNorm2d(256, eps=1e-05, momentum=0.1, affine=True, track_running_stats=True)\n",
       "      (conv2): Conv2d(256, 256, kernel_size=(3, 3), stride=(1, 1), padding=(1, 1), bias=False)\n",
       "      (bn2): BatchNorm2d(256, eps=1e-05, momentum=0.1, affine=True, track_running_stats=True)\n",
       "      (conv3): Conv2d(256, 1024, kernel_size=(1, 1), stride=(1, 1), bias=False)\n",
       "      (bn3): BatchNorm2d(1024, eps=1e-05, momentum=0.1, affine=True, track_running_stats=True)\n",
       "      (relu): ReLU(inplace=True)\n",
       "    )\n",
       "  )\n",
       "  (layer4): Sequential(\n",
       "    (0): Bottleneck(\n",
       "      (conv1): Conv2d(1024, 512, kernel_size=(1, 1), stride=(1, 1), bias=False)\n",
       "      (bn1): BatchNorm2d(512, eps=1e-05, momentum=0.1, affine=True, track_running_stats=True)\n",
       "      (conv2): Conv2d(512, 512, kernel_size=(3, 3), stride=(2, 2), padding=(1, 1), bias=False)\n",
       "      (bn2): BatchNorm2d(512, eps=1e-05, momentum=0.1, affine=True, track_running_stats=True)\n",
       "      (conv3): Conv2d(512, 2048, kernel_size=(1, 1), stride=(1, 1), bias=False)\n",
       "      (bn3): BatchNorm2d(2048, eps=1e-05, momentum=0.1, affine=True, track_running_stats=True)\n",
       "      (relu): ReLU(inplace=True)\n",
       "      (downsample): Sequential(\n",
       "        (0): Conv2d(1024, 2048, kernel_size=(1, 1), stride=(2, 2), bias=False)\n",
       "        (1): BatchNorm2d(2048, eps=1e-05, momentum=0.1, affine=True, track_running_stats=True)\n",
       "      )\n",
       "    )\n",
       "    (1): Bottleneck(\n",
       "      (conv1): Conv2d(2048, 512, kernel_size=(1, 1), stride=(1, 1), bias=False)\n",
       "      (bn1): BatchNorm2d(512, eps=1e-05, momentum=0.1, affine=True, track_running_stats=True)\n",
       "      (conv2): Conv2d(512, 512, kernel_size=(3, 3), stride=(1, 1), padding=(1, 1), bias=False)\n",
       "      (bn2): BatchNorm2d(512, eps=1e-05, momentum=0.1, affine=True, track_running_stats=True)\n",
       "      (conv3): Conv2d(512, 2048, kernel_size=(1, 1), stride=(1, 1), bias=False)\n",
       "      (bn3): BatchNorm2d(2048, eps=1e-05, momentum=0.1, affine=True, track_running_stats=True)\n",
       "      (relu): ReLU(inplace=True)\n",
       "    )\n",
       "    (2): Bottleneck(\n",
       "      (conv1): Conv2d(2048, 512, kernel_size=(1, 1), stride=(1, 1), bias=False)\n",
       "      (bn1): BatchNorm2d(512, eps=1e-05, momentum=0.1, affine=True, track_running_stats=True)\n",
       "      (conv2): Conv2d(512, 512, kernel_size=(3, 3), stride=(1, 1), padding=(1, 1), bias=False)\n",
       "      (bn2): BatchNorm2d(512, eps=1e-05, momentum=0.1, affine=True, track_running_stats=True)\n",
       "      (conv3): Conv2d(512, 2048, kernel_size=(1, 1), stride=(1, 1), bias=False)\n",
       "      (bn3): BatchNorm2d(2048, eps=1e-05, momentum=0.1, affine=True, track_running_stats=True)\n",
       "      (relu): ReLU(inplace=True)\n",
       "    )\n",
       "  )\n",
       "  (avgpool): AdaptiveAvgPool2d(output_size=(1, 1))\n",
       "  (fc): Linear(in_features=2048, out_features=1, bias=True)\n",
       ")"
      ]
     },
     "execution_count": 7,
     "metadata": {},
     "output_type": "execute_result"
    }
   ],
   "source": [
    "# Load model\n",
    "model = torch.load(os.path.join('models','resnet50_atelectasis.pth'))\n",
    "model.to(DEVICE)"
   ]
  },
  {
   "cell_type": "code",
   "execution_count": 8,
   "id": "dc4c271d",
   "metadata": {},
   "outputs": [],
   "source": [
    "model.eval()\n",
    "running_corrects = 0\n",
    "output_list = []\n",
    "label_list = []\n",
    "preds_list = []\n",
    "prob_list = []\n",
    "\n",
    "with torch.no_grad():\n",
    "        for data in test_loader:\n",
    "            inputs, labels = data\n",
    "\n",
    "            labels_auc = labels\n",
    "            labels_print = labels\n",
    "            labels_auc = labels_auc.type(torch.FloatTensor)\n",
    "            labels = labels.type(torch.LongTensor) #add for BCE loss\n",
    "\n",
    "            # wrap them in Variable\n",
    "            inputs = inputs.to(DEVICE)\n",
    "            labels = labels.to(DEVICE)\n",
    "            labels_auc = labels_auc.to(DEVICE)\n",
    "\n",
    "            labels = labels.view(labels.size()[0],-1) #add for BCE loss\n",
    "            labels_auc = labels_auc.view(labels_auc.size()[0],-1) #add for BCE loss\n",
    "            # forward\n",
    "            outputs = model(inputs)\n",
    "            # _, preds = torch.max(outputs.data, 1)\n",
    "            score = torch.sigmoid(outputs)\n",
    "            score_np = score.data.cpu().numpy()\n",
    "            preds = score>0.5\n",
    "            preds_np = preds.data.cpu().numpy()\n",
    "            preds = preds.type(torch.cuda.LongTensor)\n",
    "\n",
    "            labels_auc = labels_auc.data.cpu().numpy()\n",
    "            outputs = outputs.data.cpu().numpy()\n",
    "\n",
    "            for i in range(outputs.shape[0]):\n",
    "                output_list.append(outputs[i].tolist())\n",
    "                prob_list.append(score_np[i].tolist())\n",
    "                label_list.append(labels_auc[i].tolist())\n",
    "                preds_list.append(preds_np[i].tolist())\n",
    "\n",
    "            running_corrects += torch.sum(preds.data == labels.data) #add for BCE loss"
   ]
  },
  {
   "cell_type": "markdown",
   "id": "ff9444a7",
   "metadata": {},
   "source": [
    "### Statistics"
   ]
  },
  {
   "cell_type": "code",
   "execution_count": 16,
   "id": "ba0d35af",
   "metadata": {},
   "outputs": [
    {
     "name": "stdout",
     "output_type": "stream",
     "text": [
      "Test Accuracy: 0.7500  Test AUC: 0.8216  Test_AP: 0.8117\n",
      "TP: 307  FP: 112  TN: 269  FN: 80\n",
      "Sensitivity: 0.7933  Specificity: 0.7060\n",
      "Precision: 73.27%  Recall: 79.33%  F1: 0.7618\n",
      "PPV: 0.7327  NPV: 0.7708\n"
     ]
    }
   ],
   "source": [
    "# SHOW STATISTICS\n",
    "acc = np.float(running_corrects) / dataset_sizes['test']\n",
    "auc = metrics.roc_auc_score(np.array(label_list), np.array(output_list), average=None)\n",
    "\n",
    "fpr, tpr, threshold = metrics.roc_curve(np.array(label_list), np.array(output_list))\n",
    "roc_auc = metrics.auc(fpr, tpr)\n",
    "\n",
    "ap = metrics.average_precision_score(np.array(label_list), np.array(output_list))\n",
    "\n",
    "tn, fp, fn, tp = metrics.confusion_matrix(label_list, preds_list).ravel()\n",
    "\n",
    "recall = tp/(tp+fn)\n",
    "precision = tp/(tp+fp)\n",
    "f1 = 2*precision*recall/(precision+recall)\n",
    "sensitivity = recall\n",
    "specificity = tn/(tn+fp)\n",
    "PPV = tp/(tp+fp)\n",
    "NPV = tn/(tn+fn)\n",
    "\n",
    "print('Test Accuracy: {0:.4f}  Test AUC: {1:.4f}  Test_AP: {2:.4f}'.format(acc, auc, ap))\n",
    "print('TP: {0:}  FP: {1:}  TN: {2:}  FN: {3:}'.format(tp, fp, tn, fn))\n",
    "print('Sensitivity: {0:.4f}  Specificity: {1:.4f}'.format(sensitivity, specificity))\n",
    "print('Precision: {0:.2f}%  Recall: {1:.2f}%  F1: {2:.4f}'.format(precision*100, recall*100, f1))\n",
    "print('PPV: {0:.4f}  NPV: {1:.4f}'.format(PPV, NPV))"
   ]
  },
  {
   "cell_type": "markdown",
   "id": "e58ec062",
   "metadata": {},
   "source": [
    "### Classification report"
   ]
  },
  {
   "cell_type": "code",
   "execution_count": 10,
   "id": "7252345a",
   "metadata": {},
   "outputs": [
    {
     "name": "stdout",
     "output_type": "stream",
     "text": [
      "                 precision    recall  f1-score   support\n",
      "\n",
      "not atelectasis     0.7708    0.7060    0.7370       381\n",
      "    atelectasis     0.7327    0.7933    0.7618       387\n",
      "\n",
      "       accuracy                         0.7500       768\n",
      "      macro avg     0.7517    0.7497    0.7494       768\n",
      "   weighted avg     0.7516    0.7500    0.7495       768\n",
      "\n"
     ]
    }
   ],
   "source": [
    "from sklearn.metrics import classification_report\n",
    "class_names = [\"not atelectasis\",\"atelectasis\"]\n",
    "print(classification_report(label_list, preds_list, target_names = class_names, digits = 4))"
   ]
  },
  {
   "cell_type": "markdown",
   "id": "01540460",
   "metadata": {},
   "source": [
    "### Confusion Matrix"
   ]
  },
  {
   "cell_type": "code",
   "execution_count": 48,
   "id": "36d8e848",
   "metadata": {},
   "outputs": [
    {
     "data": {
      "image/png": "[encoded data removed]",
      "text/plain": [
       "<Figure size 640x480 with 2 Axes>"
      ]
     },
     "metadata": {},
     "output_type": "display_data"
    }
   ],
   "source": [
    "import numpy as np\n",
    "import matplotlib.pyplot as plt\n",
    "import seaborn as sns\n",
    "\n",
    "# Compute the confusion matrix\n",
    "cmat = confusion_matrix(label_list, preds_list, normalize='true')\n",
    "\n",
    "# Round the values in the confusion matrix\n",
    "cmat_rounded = np.round(cmat, decimals=4)\n",
    "\n",
    "# Create visualization\n",
    "ax = sns.heatmap(cmat_rounded * 100, annot=True, cmap='Oranges', fmt='.2f')\n",
    "\n",
    "for t in ax.texts:\n",
    "    t.set_text(t.get_text() + \" %\")\n",
    "\n",
    "# Set the axis labels\n",
    "ax.set_xlabel('\\nPredicted Values')\n",
    "ax.set_ylabel('Actual Values')\n",
    "ax.xaxis.set_ticklabels(['not atelectasis', 'atelectasis'])\n",
    "ax.yaxis.set_ticklabels(['not atelectasis', 'atelectasis'])\n",
    "\n",
    "# Show the plot\n",
    "plt.show()\n"
   ]
  },
  {
   "cell_type": "code",
   "execution_count": 11,
   "id": "bab86981",
   "metadata": {},
   "outputs": [
    {
     "name": "stdout",
     "output_type": "stream",
     "text": [
      "True Negative(TN)=  269\n",
      "False Positive(FP)= 112\n",
      "False Negative(FN)= 80\n",
      "True Positive(TP)=  307\n"
     ]
    }
   ],
   "source": [
    "tn, fp, fn, tp  = confusion_matrix(label_list, preds_list).ravel()\n",
    "print('True Negative(TN)=  %s\\nFalse Positive(FP)= %s\\nFalse Negative(FN)= %s\\nTrue Positive(TP)=  %s' % (tn, fp, fn,tp))"
   ]
  },
  {
   "cell_type": "markdown",
   "id": "dfb82aae",
   "metadata": {},
   "source": [
    "### Plot ROC-Curve and calculate AUC"
   ]
  },
  {
   "cell_type": "code",
   "execution_count": 17,
   "id": "cee48879",
   "metadata": {},
   "outputs": [
    {
     "data": {
      "image/png": "[encoded data removed]",
      "text/plain": [
       "<Figure size 640x480 with 1 Axes>"
      ]
     },
     "metadata": {},
     "output_type": "display_data"
    }
   ],
   "source": [
    "fpr, tpr, threshold = metrics.roc_curve(np.array(label_list), np.array(output_list))\n",
    "#ROC CURVE\n",
    "plt.figure()\n",
    "plt.plot(fpr, tpr, lw=2, color='red', label='Infiltration (AUC = %0.4f)' % roc_auc)\n",
    "plt.plot([0, 1], [0, 1], color='indianred', lw=2, linestyle='--')\n",
    "\n",
    "plt.xlabel('False Positive Rate')\n",
    "plt.ylabel('True Positive Rate')\n",
    "plt.title('ROC curve: Infiltration')\n",
    "plt.legend(loc=\"lower right\")\n",
    "plt.show()"
   ]
  },
  {
   "cell_type": "code",
   "execution_count": null,
   "id": "17836591",
   "metadata": {},
   "outputs": [],
   "source": []
  }
 ],
 "metadata": {
  "kernelspec": {
   "display_name": "Python 3 (ipykernel)",
   "language": "python",
   "name": "python3"
  },
  "language_info": {
   "codemirror_mode": {
    "name": "ipython",
    "version": 3
   },
   "file_extension": ".py",
   "mimetype": "text/x-python",
   "name": "python",
   "nbconvert_exporter": "python",
   "pygments_lexer": "ipython3",
   "version": "3.8.12"
  }
 },
 "nbformat": 4,
 "nbformat_minor": 5
}
